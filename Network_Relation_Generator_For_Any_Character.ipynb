{
 "cells": [
  {
   "cell_type": "code",
   "execution_count": 25,
   "metadata": {},
   "outputs": [],
   "source": [
    "import pandas as pd\n",
    "from collections import Counter\n",
    "import networkx as nx"
   ]
  },
  {
   "cell_type": "code",
   "execution_count": 6,
   "metadata": {},
   "outputs": [],
   "source": [
    "words = pd.read_csv('words.csv')"
   ]
  },
  {
   "cell_type": "code",
   "execution_count": 35,
   "metadata": {},
   "outputs": [
    {
     "name": "stdout",
     "output_type": "stream",
     "text": [
      "Enter the character name Karna\n"
     ]
    }
   ],
   "source": [
    "char = input(\"Enter the character name \")"
   ]
  },
  {
   "cell_type": "code",
   "execution_count": null,
   "metadata": {},
   "outputs": [],
   "source": [
    "char_mention = pd.Series(words.loc[words['word'] == char].index)\n",
    "\n",
    "\n",
    "char_assoc = pd.DataFrame()\n",
    "for t in range(len(char_mention)):\n",
    "    i = char_mention[t] - 5\n",
    "    j = char_mention[t] - 5\n",
    "    while True:\n",
    "        if(j!=char_mention[t]):\n",
    "            if(words.loc[j]['POS'] == 'PROPN'):\n",
    "                hrk = words.loc[j]\n",
    "                char_assoc = char_assoc.append(hrk)\n",
    "                j=j+1\n",
    "            else:\n",
    "                j=j+1\n",
    "        else:\n",
    "            j = j+1\n",
    "        if(j > i+10):\n",
    "            break\n",
    "\n"
   ]
  },
  {
   "cell_type": "code",
   "execution_count": null,
   "metadata": {},
   "outputs": [],
   "source": [
    "finalDict={}\n",
    "myList = char_assoc['lemma']\n",
    "myDict = dict(Counter(myList))\n",
    "myDict = {key:val for key, val in myDict.items() if val > 10}\n",
    "for k,v in myDict.items():\n",
    "    if len(k)!=1:\n",
    "        if(k[0].isupper()):\n",
    "            finalDict[k]=v\n",
    "print(finalDict)"
   ]
  },
  {
   "cell_type": "code",
   "execution_count": null,
   "metadata": {},
   "outputs": [],
   "source": [
    "G_weighted = nx.Graph()\n",
    "for k,v in finalDict.items():\n",
    "    G_weighted.add_edge(char,k, weight=v)"
   ]
  },
  {
   "cell_type": "code",
   "execution_count": 28,
   "metadata": {},
   "outputs": [],
   "source": []
  },
  {
   "cell_type": "code",
   "execution_count": 29,
   "metadata": {},
   "outputs": [
    {
     "data": {
      "image/png": "[encoded data removed]",
      "text/plain": [
       "<Figure size 432x288 with 1 Axes>"
      ]
     },
     "metadata": {},
     "output_type": "display_data"
    }
   ],
   "source": [
    "nx.draw_networkx(G_weighted)"
   ]
  }
 ],
 "metadata": {
  "kernelspec": {
   "display_name": "Python 3",
   "language": "python",
   "name": "python3"
  },
  "language_info": {
   "codemirror_mode": {
    "name": "ipython",
    "version": 3
   },
   "file_extension": ".py",
   "mimetype": "text/x-python",
   "name": "python",
   "nbconvert_exporter": "python",
   "pygments_lexer": "ipython3",
   "version": "3.7.6"
  }
 },
 "nbformat": 4,
 "nbformat_minor": 4
}
