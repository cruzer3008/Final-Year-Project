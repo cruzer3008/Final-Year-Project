{
 "cells": [
  {
   "cell_type": "code",
   "execution_count": 74,
   "metadata": {},
   "outputs": [],
   "source": [
    "import io\n",
    "import pandas as pd\n",
    "import numpy as np\n",
    "import nltk\n",
    "import matplotlib.pyplot as plt\n",
    "%matplotlib inline\n",
    "from nltk import FreqDist\n",
    "from PIL import Image\n",
    "import matplotlib.pyplot as plt\n",
    "from wordcloud import WordCloud \n",
    "import nltk\n",
    "from nltk import FreqDist"
   ]
  },
  {
   "cell_type": "code",
   "execution_count": 37,
   "metadata": {},
   "outputs": [],
   "source": [
    "with open(\"book.txt\", \"r\", encoding='utf8') as f:\n",
    "    file = f.read()"
   ]
  },
  {
   "cell_type": "code",
   "execution_count": 38,
   "metadata": {},
   "outputs": [
    {
     "name": "stdout",
     "output_type": "stream",
     "text": [
      "61\n"
     ]
    }
   ],
   "source": [
    "raw = file.split(\"Chapter\")[1:]\n",
    "print(len(raw))"
   ]
  },
  {
   "cell_type": "code",
   "execution_count": 43,
   "metadata": {},
   "outputs": [],
   "source": [
    "book_df = pd.DataFrame({\"chapter\": raw})"
   ]
  },
  {
   "cell_type": "code",
   "execution_count": 51,
   "metadata": {},
   "outputs": [],
   "source": [
    "chapters = book_df.copy()\n",
    "chapters['chapter_num'] = chapters.index+1"
   ]
  },
  {
   "cell_type": "code",
   "execution_count": 53,
   "metadata": {},
   "outputs": [
    {
     "data": {
      "text/html": [
       "<div>\n",
       "<style scoped>\n",
       "    .dataframe tbody tr th:only-of-type {\n",
       "        vertical-align: middle;\n",
       "    }\n",
       "\n",
       "    .dataframe tbody tr th {\n",
       "        vertical-align: top;\n",
       "    }\n",
       "\n",
       "    .dataframe thead th {\n",
       "        text-align: right;\n",
       "    }\n",
       "</style>\n",
       "<table border=\"1\" class=\"dataframe\">\n",
       "  <thead>\n",
       "    <tr style=\"text-align: right;\">\n",
       "      <th></th>\n",
       "      <th>chapter</th>\n",
       "      <th>chapter_num</th>\n",
       "    </tr>\n",
       "  </thead>\n",
       "  <tbody>\n",
       "    <tr>\n",
       "      <th>0</th>\n",
       "      <td>1\\n\\n      It is a truth universally acknowle...</td>\n",
       "      <td>1</td>\n",
       "    </tr>\n",
       "    <tr>\n",
       "      <th>1</th>\n",
       "      <td>2\\n\\n      Mr. Bennet was among the earliest ...</td>\n",
       "      <td>2</td>\n",
       "    </tr>\n",
       "    <tr>\n",
       "      <th>2</th>\n",
       "      <td>3\\n\\n      Not all that Mrs. Bennet, however,...</td>\n",
       "      <td>3</td>\n",
       "    </tr>\n",
       "    <tr>\n",
       "      <th>3</th>\n",
       "      <td>4\\n\\n      When Jane and Elizabeth were alone...</td>\n",
       "      <td>4</td>\n",
       "    </tr>\n",
       "    <tr>\n",
       "      <th>4</th>\n",
       "      <td>5\\n\\n      Within a short walk of Longbourn l...</td>\n",
       "      <td>5</td>\n",
       "    </tr>\n",
       "    <tr>\n",
       "      <th>...</th>\n",
       "      <td>...</td>\n",
       "      <td>...</td>\n",
       "    </tr>\n",
       "    <tr>\n",
       "      <th>56</th>\n",
       "      <td>57\\n\\n      The discomposure of spirits which...</td>\n",
       "      <td>57</td>\n",
       "    </tr>\n",
       "    <tr>\n",
       "      <th>57</th>\n",
       "      <td>58\\n\\n      Instead of receiving any such let...</td>\n",
       "      <td>58</td>\n",
       "    </tr>\n",
       "    <tr>\n",
       "      <th>58</th>\n",
       "      <td>59\\n\\n      “My dear Lizzy, where can you hav...</td>\n",
       "      <td>59</td>\n",
       "    </tr>\n",
       "    <tr>\n",
       "      <th>59</th>\n",
       "      <td>60\\n\\n      Elizabeth’s spirits soon rising t...</td>\n",
       "      <td>60</td>\n",
       "    </tr>\n",
       "    <tr>\n",
       "      <th>60</th>\n",
       "      <td>61\\n\\n      Happy for all her maternal feelin...</td>\n",
       "      <td>61</td>\n",
       "    </tr>\n",
       "  </tbody>\n",
       "</table>\n",
       "<p>61 rows × 2 columns</p>\n",
       "</div>"
      ],
      "text/plain": [
       "                                              chapter  chapter_num\n",
       "0    1\\n\\n      It is a truth universally acknowle...            1\n",
       "1    2\\n\\n      Mr. Bennet was among the earliest ...            2\n",
       "2    3\\n\\n      Not all that Mrs. Bennet, however,...            3\n",
       "3    4\\n\\n      When Jane and Elizabeth were alone...            4\n",
       "4    5\\n\\n      Within a short walk of Longbourn l...            5\n",
       "..                                                ...          ...\n",
       "56   57\\n\\n      The discomposure of spirits which...           57\n",
       "57   58\\n\\n      Instead of receiving any such let...           58\n",
       "58   59\\n\\n      “My dear Lizzy, where can you hav...           59\n",
       "59   60\\n\\n      Elizabeth’s spirits soon rising t...           60\n",
       "60   61\\n\\n      Happy for all her maternal feelin...           61\n",
       "\n",
       "[61 rows x 2 columns]"
      ]
     },
     "execution_count": 53,
     "metadata": {},
     "output_type": "execute_result"
    }
   ],
   "source": [
    "chapters"
   ]
  },
  {
   "cell_type": "code",
   "execution_count": 55,
   "metadata": {},
   "outputs": [
    {
     "data": {
      "text/plain": [
       "' 1\\n\\n      It is a truth universally acknowledged, that a single man in\\n      possession of a good fortune, must be in want of a wife.\\n\\n      However little known the feelings or views of such a man may be\\n      on his first entering a neighbourhood, this truth is so well\\n      fixed in the minds of the surrounding families, that he is\\n      considered the rightful property of some one or other of their\\n      daughters.\\n\\n      “My dear Mr. Bennet,” said his lady to him one day, “have you\\n      heard that Netherfield Park is let at last?”\\n\\n      Mr. Bennet replied that he had not.\\n\\n      “But it is,” returned she; “for Mrs. Long has just been here, and\\n      she told me all about it.”\\n\\n      Mr. Bennet made no answer.\\n\\n      “Do you not want to know who has taken it?” cried his wife\\n      impatiently.\\n\\n      “_You_ want to tell me, and I have no objection to hearing it.”\\n\\n      This was invitation enough.\\n\\n      “Why, my dear, you must know, Mrs. Long says that Netherfield is\\n      taken by a young man of large fortune from the north of England;\\n      that he came down on Monday in a chaise and four to see the\\n      place, and was so much delighted with it, that he agreed with Mr.\\n      Morris immediately; that he is to take possession before\\n      Michaelmas, and some of his servants are to be in the house by\\n      the end of next week.”\\n\\n      “What is his name?”\\n\\n      “Bingley.”\\n\\n      “Is he married or single?”\\n\\n      “Oh! Single, my dear, to be sure! A single man of large fortune;\\n      four or five thousand a year. What a fine thing for our girls!”\\n\\n      “How so? How can it affect them?”\\n\\n      “My dear Mr. Bennet,” replied his wife, “how can you be so\\n      tiresome! You must know that I am thinking of his marrying one of\\n      them.”\\n\\n      “Is that his design in settling here?”\\n\\n      “Design! Nonsense, how can you talk so! But it is very likely\\n      that he _may_ fall in love with one of them, and therefore you\\n      must visit him as soon as he comes.”\\n\\n      “I see no occasion for that. You and the girls may go, or you may\\n      send them by themselves, which perhaps will be still better, for\\n      as you are as handsome as any of them, Mr. Bingley may like you\\n      the best of the party.”\\n\\n      “My dear, you flatter me. I certainly _have_ had my share of\\n      beauty, but I do not pretend to be anything extraordinary now.\\n      When a woman has five grown-up daughters, she ought to give over\\n      thinking of her own beauty.”\\n\\n      “In such cases, a woman has not often much beauty to think of.”\\n\\n      “But, my dear, you must indeed go and see Mr. Bingley when he\\n      comes into the neighbourhood.”\\n\\n      “It is more than I engage for, I assure you.”\\n\\n      “But consider your daughters. Only think what an establishment it\\n      would be for one of them. Sir William and Lady Lucas are\\n      determined to go, merely on that account, for in general, you\\n      know, they visit no newcomers. Indeed you must go, for it will be\\n      impossible for _us_ to visit him if you do not.”\\n\\n      “You are over-scrupulous, surely. I dare say Mr. Bingley will be\\n      very glad to see you; and I will send a few lines by you to\\n      assure him of my hearty consent to his marrying whichever he\\n      chooses of the girls; though I must throw in a good word for my\\n      little Lizzy.”\\n\\n      “I desire you will do no such thing. Lizzy is not a bit better\\n      than the others; and I am sure she is not half so handsome as\\n      Jane, nor half so good-humoured as Lydia. But you are always\\n      giving _her_ the preference.”\\n\\n      “They have none of them much to recommend them,” replied he;\\n      “they are all silly and ignorant like other girls; but Lizzy has\\n      something more of quickness than her sisters.”\\n\\n      “Mr. Bennet, how can you abuse your own children in such a way?\\n      You take delight in vexing me. You have no compassion for my poor\\n      nerves.”\\n\\n      “You mistake me, my dear. I have a high respect for your nerves.\\n      They are my old friends. I have heard you mention them with\\n      consideration these last twenty years at least.”\\n\\n      “Ah, you do not know what I suffer.”\\n\\n      “But I hope you will get over it, and live to see many young men\\n      of four thousand a year come into the neighbourhood.”\\n\\n      “It will be no use to us, if twenty such should come, since you\\n      will not visit them.”\\n\\n      “Depend upon it, my dear, that when there are twenty, I will\\n      visit them all.”\\n\\n      Mr. Bennet was so odd a mixture of quick parts, sarcastic humour,\\n      reserve, and caprice, that the experience of three-and-twenty\\n      years had been insufficient to make his wife understand his\\n      character. _Her_ mind was less difficult to develop. She was a\\n      woman of mean understanding, little information, and uncertain\\n      temper. When she was discontented, she fancied herself nervous.\\n      The business of her life was to get her daughters married; its\\n      solace was visiting and news.\\n\\n\\n\\n\\n      '"
      ]
     },
     "execution_count": 55,
     "metadata": {},
     "output_type": "execute_result"
    }
   ],
   "source": [
    "chapters['chapter'][0]"
   ]
  },
  {
   "cell_type": "code",
   "execution_count": 56,
   "metadata": {},
   "outputs": [],
   "source": [
    "def unnest_tokens(dataframe, column, tokenizer, new_column='word'): \n",
    "    \"\"\"\n",
    "    Applies a tokenizer to a column and then unnest the dataframe\n",
    "    \n",
    "    dataframe: dataframe with text\n",
    "    column: name of the column with the text\n",
    "    new_column: what you want the column of words to be called\n",
    "    tokenizer: a function to be used to tokenize the text\n",
    "    \"\"\" \n",
    "    new_column_num = new_column + \"_num\"\n",
    "    df = ( dataframe[column]\n",
    "              .apply(tokenizer)\n",
    "              .apply(pd.Series)\n",
    "              .stack()\n",
    "              .reset_index(level=1)\n",
    "              .rename(columns={0: new_column, \"level_1\":new_column_num})\n",
    "              .join(dataframe.drop(column, axis=1), how='left')\n",
    "              .reset_index(drop=True)\n",
    "         )\n",
    "    df[new_column_num] = pd.to_numeric(df[new_column_num])\n",
    "    df[new_column_num] = df[new_column_num] + 1\n",
    "    return df"
   ]
  },
  {
   "cell_type": "code",
   "execution_count": 62,
   "metadata": {},
   "outputs": [
    {
     "data": {
      "text/plain": [
       "' 1        It is a truth universally acknowledged, that a single man in       possession of a good fortune, must be in want of a wife.        However little known the feelings or views of such a man may be       on his first entering a neighbourhood, this truth is so well       fixed in the minds of the surrounding families, that he is       considered the rightful property of some one or other of their       daughters.        “My dear Mr. Bennet,” said his lady to him one day, “have you       heard that Netherfield Park is let at last?”        Mr. Bennet replied that he had not.        “But it is,” returned she; “for Mrs. Long has just been here, and       she told me all about it.”        Mr. Bennet made no answer.        “Do you not want to know who has taken it?” cried his wife       impatiently.        “_You_ want to tell me, and I have no objection to hearing it.”        This was invitation enough.        “Why, my dear, you must know, Mrs. Long says that Netherfield is       taken by a young man of large fortune from the north of England;       that he came down on Monday in a chaise and four to see the       place, and was so much delighted with it, that he agreed with Mr.       Morris immediately; that he is to take possession before       Michaelmas, and some of his servants are to be in the house by       the end of next week.”        “What is his name?”        “Bingley.”        “Is he married or single?”        “Oh! Single, my dear, to be sure! A single man of large fortune;       four or five thousand a year. What a fine thing for our girls!”        “How so? How can it affect them?”        “My dear Mr. Bennet,” replied his wife, “how can you be so       tiresome! You must know that I am thinking of his marrying one of       them.”        “Is that his design in settling here?”        “Design! Nonsense, how can you talk so! But it is very likely       that he _may_ fall in love with one of them, and therefore you       must visit him as soon as he comes.”        “I see no occasion for that. You and the girls may go, or you may       send them by themselves, which perhaps will be still better, for       as you are as handsome as any of them, Mr. Bingley may like you       the best of the party.”        “My dear, you flatter me. I certainly _have_ had my share of       beauty, but I do not pretend to be anything extraordinary now.       When a woman has five grown-up daughters, she ought to give over       thinking of her own beauty.”        “In such cases, a woman has not often much beauty to think of.”        “But, my dear, you must indeed go and see Mr. Bingley when he       comes into the neighbourhood.”        “It is more than I engage for, I assure you.”        “But consider your daughters. Only think what an establishment it       would be for one of them. Sir William and Lady Lucas are       determined to go, merely on that account, for in general, you       know, they visit no newcomers. Indeed you must go, for it will be       impossible for _us_ to visit him if you do not.”        “You are over-scrupulous, surely. I dare say Mr. Bingley will be       very glad to see you; and I will send a few lines by you to       assure him of my hearty consent to his marrying whichever he       chooses of the girls; though I must throw in a good word for my       little Lizzy.”        “I desire you will do no such thing. Lizzy is not a bit better       than the others; and I am sure she is not half so handsome as       Jane, nor half so good-humoured as Lydia. But you are always       giving _her_ the preference.”        “They have none of them much to recommend them,” replied he;       “they are all silly and ignorant like other girls; but Lizzy has       something more of quickness than her sisters.”        “Mr. Bennet, how can you abuse your own children in such a way?       You take delight in vexing me. You have no compassion for my poor       nerves.”        “You mistake me, my dear. I have a high respect for your nerves.       They are my old friends. I have heard you mention them with       consideration these last twenty years at least.”        “Ah, you do not know what I suffer.”        “But I hope you will get over it, and live to see many young men       of four thousand a year come into the neighbourhood.”        “It will be no use to us, if twenty such should come, since you       will not visit them.”        “Depend upon it, my dear, that when there are twenty, I will       visit them all.”        Mr. Bennet was so odd a mixture of quick parts, sarcastic humour,       reserve, and caprice, that the experience of three-and-twenty       years had been insufficient to make his wife understand his       character. _Her_ mind was less difficult to develop. She was a       woman of mean understanding, little information, and uncertain       temper. When she was discontented, she fancied herself nervous.       The business of her life was to get her daughters married; its       solace was visiting and news.           '"
      ]
     },
     "execution_count": 62,
     "metadata": {},
     "output_type": "execute_result"
    }
   ],
   "source": [
    "chapters['chapter'] = chapters.chapter.str.replace(\"\\n\", \" \")\n",
    "chapters.chapter[0]"
   ]
  },
  {
   "cell_type": "markdown",
   "metadata": {},
   "source": [
    "## Get Sentences"
   ]
  },
  {
   "cell_type": "code",
   "execution_count": 64,
   "metadata": {},
   "outputs": [],
   "source": [
    "import spacy\n",
    "nlp = spacy.load('en')"
   ]
  },
  {
   "cell_type": "code",
   "execution_count": 65,
   "metadata": {},
   "outputs": [],
   "source": [
    "def sentence_tokenizer(text):\n",
    "    doc = nlp(text)\n",
    "    sentences = [sent.string.strip() for sent in doc.sents]\n",
    "    return sentences"
   ]
  },
  {
   "cell_type": "code",
   "execution_count": 66,
   "metadata": {},
   "outputs": [],
   "source": [
    "sentences = unnest_tokens(chapters, \"chapter\", sentence_tokenizer, \"sentence\")"
   ]
  },
  {
   "cell_type": "code",
   "execution_count": 68,
   "metadata": {},
   "outputs": [
    {
     "data": {
      "text/html": [
       "<div>\n",
       "<style scoped>\n",
       "    .dataframe tbody tr th:only-of-type {\n",
       "        vertical-align: middle;\n",
       "    }\n",
       "\n",
       "    .dataframe tbody tr th {\n",
       "        vertical-align: top;\n",
       "    }\n",
       "\n",
       "    .dataframe thead th {\n",
       "        text-align: right;\n",
       "    }\n",
       "</style>\n",
       "<table border=\"1\" class=\"dataframe\">\n",
       "  <thead>\n",
       "    <tr style=\"text-align: right;\">\n",
       "      <th></th>\n",
       "      <th>sentence_num</th>\n",
       "      <th>sentence</th>\n",
       "      <th>chapter_num</th>\n",
       "    </tr>\n",
       "  </thead>\n",
       "  <tbody>\n",
       "    <tr>\n",
       "      <th>0</th>\n",
       "      <td>1</td>\n",
       "      <td>1</td>\n",
       "      <td>1</td>\n",
       "    </tr>\n",
       "    <tr>\n",
       "      <th>1</th>\n",
       "      <td>2</td>\n",
       "      <td>It is a truth universally acknowledged, that a...</td>\n",
       "      <td>1</td>\n",
       "    </tr>\n",
       "    <tr>\n",
       "      <th>2</th>\n",
       "      <td>3</td>\n",
       "      <td>However little known the feelings or views of ...</td>\n",
       "      <td>1</td>\n",
       "    </tr>\n",
       "    <tr>\n",
       "      <th>3</th>\n",
       "      <td>4</td>\n",
       "      <td>“My dear Mr. Bennet,” said his lady to him one...</td>\n",
       "      <td>1</td>\n",
       "    </tr>\n",
       "    <tr>\n",
       "      <th>4</th>\n",
       "      <td>5</td>\n",
       "      <td>Mr. Bennet replied that he had not.</td>\n",
       "      <td>1</td>\n",
       "    </tr>\n",
       "    <tr>\n",
       "      <th>...</th>\n",
       "      <td>...</td>\n",
       "      <td>...</td>\n",
       "      <td>...</td>\n",
       "    </tr>\n",
       "    <tr>\n",
       "      <th>6975</th>\n",
       "      <td>47</td>\n",
       "      <td>Elizabeth’s instructions, she began to compreh...</td>\n",
       "      <td>61</td>\n",
       "    </tr>\n",
       "    <tr>\n",
       "      <th>6976</th>\n",
       "      <td>48</td>\n",
       "      <td>Lady Catherine was extremely indignant on the ...</td>\n",
       "      <td>61</td>\n",
       "    </tr>\n",
       "    <tr>\n",
       "      <th>6977</th>\n",
       "      <td>49</td>\n",
       "      <td>But       at length, by Elizabeth’s persuasion...</td>\n",
       "      <td>61</td>\n",
       "    </tr>\n",
       "    <tr>\n",
       "      <th>6978</th>\n",
       "      <td>50</td>\n",
       "      <td>With the Gardiners, they were always on the mo...</td>\n",
       "      <td>61</td>\n",
       "    </tr>\n",
       "    <tr>\n",
       "      <th>6979</th>\n",
       "      <td>51</td>\n",
       "      <td>Darcy, as well as Elizabeth, really loved them...</td>\n",
       "      <td>61</td>\n",
       "    </tr>\n",
       "  </tbody>\n",
       "</table>\n",
       "<p>6980 rows × 3 columns</p>\n",
       "</div>"
      ],
      "text/plain": [
       "      sentence_num                                           sentence  \\\n",
       "0                1                                                  1   \n",
       "1                2  It is a truth universally acknowledged, that a...   \n",
       "2                3  However little known the feelings or views of ...   \n",
       "3                4  “My dear Mr. Bennet,” said his lady to him one...   \n",
       "4                5                Mr. Bennet replied that he had not.   \n",
       "...            ...                                                ...   \n",
       "6975            47  Elizabeth’s instructions, she began to compreh...   \n",
       "6976            48  Lady Catherine was extremely indignant on the ...   \n",
       "6977            49  But       at length, by Elizabeth’s persuasion...   \n",
       "6978            50  With the Gardiners, they were always on the mo...   \n",
       "6979            51  Darcy, as well as Elizabeth, really loved them...   \n",
       "\n",
       "      chapter_num  \n",
       "0               1  \n",
       "1               1  \n",
       "2               1  \n",
       "3               1  \n",
       "4               1  \n",
       "...           ...  \n",
       "6975           61  \n",
       "6976           61  \n",
       "6977           61  \n",
       "6978           61  \n",
       "6979           61  \n",
       "\n",
       "[6980 rows x 3 columns]"
      ]
     },
     "execution_count": 68,
     "metadata": {},
     "output_type": "execute_result"
    }
   ],
   "source": [
    "sentences"
   ]
  },
  {
   "cell_type": "markdown",
   "metadata": {},
   "source": [
    "## Get Words"
   ]
  },
  {
   "cell_type": "code",
   "execution_count": 69,
   "metadata": {},
   "outputs": [],
   "source": [
    "def word_tokenizer(text):\n",
    "    doc = nlp(text)\n",
    "    words = [[token.text, token.lemma_, token.pos_, token.is_stop] for token in doc]\n",
    "    return words"
   ]
  },
  {
   "cell_type": "code",
   "execution_count": 70,
   "metadata": {},
   "outputs": [],
   "source": [
    "words = unnest_tokens(sentences, \"sentence\", word_tokenizer, \"word\")"
   ]
  },
  {
   "cell_type": "code",
   "execution_count": 71,
   "metadata": {},
   "outputs": [
    {
     "data": {
      "text/html": [
       "<div>\n",
       "<style scoped>\n",
       "    .dataframe tbody tr th:only-of-type {\n",
       "        vertical-align: middle;\n",
       "    }\n",
       "\n",
       "    .dataframe tbody tr th {\n",
       "        vertical-align: top;\n",
       "    }\n",
       "\n",
       "    .dataframe thead th {\n",
       "        text-align: right;\n",
       "    }\n",
       "</style>\n",
       "<table border=\"1\" class=\"dataframe\">\n",
       "  <thead>\n",
       "    <tr style=\"text-align: right;\">\n",
       "      <th></th>\n",
       "      <th>word_num</th>\n",
       "      <th>word</th>\n",
       "      <th>sentence_num</th>\n",
       "      <th>chapter_num</th>\n",
       "    </tr>\n",
       "  </thead>\n",
       "  <tbody>\n",
       "    <tr>\n",
       "      <th>0</th>\n",
       "      <td>1</td>\n",
       "      <td>[1, 1, X, False]</td>\n",
       "      <td>1</td>\n",
       "      <td>1</td>\n",
       "    </tr>\n",
       "    <tr>\n",
       "      <th>1</th>\n",
       "      <td>1</td>\n",
       "      <td>[It, -PRON-, PRON, True]</td>\n",
       "      <td>2</td>\n",
       "      <td>1</td>\n",
       "    </tr>\n",
       "    <tr>\n",
       "      <th>2</th>\n",
       "      <td>2</td>\n",
       "      <td>[is, be, AUX, True]</td>\n",
       "      <td>2</td>\n",
       "      <td>1</td>\n",
       "    </tr>\n",
       "    <tr>\n",
       "      <th>3</th>\n",
       "      <td>3</td>\n",
       "      <td>[a, a, DET, True]</td>\n",
       "      <td>2</td>\n",
       "      <td>1</td>\n",
       "    </tr>\n",
       "    <tr>\n",
       "      <th>4</th>\n",
       "      <td>4</td>\n",
       "      <td>[truth, truth, NOUN, False]</td>\n",
       "      <td>2</td>\n",
       "      <td>1</td>\n",
       "    </tr>\n",
       "  </tbody>\n",
       "</table>\n",
       "</div>"
      ],
      "text/plain": [
       "   word_num                         word  sentence_num  chapter_num\n",
       "0         1             [1, 1, X, False]             1            1\n",
       "1         1     [It, -PRON-, PRON, True]             2            1\n",
       "2         2          [is, be, AUX, True]             2            1\n",
       "3         3            [a, a, DET, True]             2            1\n",
       "4         4  [truth, truth, NOUN, False]             2            1"
      ]
     },
     "execution_count": 71,
     "metadata": {},
     "output_type": "execute_result"
    }
   ],
   "source": [
    "words.head()"
   ]
  },
  {
   "cell_type": "code",
   "execution_count": 72,
   "metadata": {},
   "outputs": [],
   "source": [
    "words[['word', 'lemma', 'POS', \"stop\"]] = pd.DataFrame(words.word.values.tolist())"
   ]
  },
  {
   "cell_type": "code",
   "execution_count": 73,
   "metadata": {},
   "outputs": [
    {
     "data": {
      "text/html": [
       "<div>\n",
       "<style scoped>\n",
       "    .dataframe tbody tr th:only-of-type {\n",
       "        vertical-align: middle;\n",
       "    }\n",
       "\n",
       "    .dataframe tbody tr th {\n",
       "        vertical-align: top;\n",
       "    }\n",
       "\n",
       "    .dataframe thead th {\n",
       "        text-align: right;\n",
       "    }\n",
       "</style>\n",
       "<table border=\"1\" class=\"dataframe\">\n",
       "  <thead>\n",
       "    <tr style=\"text-align: right;\">\n",
       "      <th></th>\n",
       "      <th>word_num</th>\n",
       "      <th>word</th>\n",
       "      <th>sentence_num</th>\n",
       "      <th>chapter_num</th>\n",
       "      <th>lemma</th>\n",
       "      <th>POS</th>\n",
       "      <th>stop</th>\n",
       "    </tr>\n",
       "  </thead>\n",
       "  <tbody>\n",
       "    <tr>\n",
       "      <th>0</th>\n",
       "      <td>1</td>\n",
       "      <td>1</td>\n",
       "      <td>1</td>\n",
       "      <td>1</td>\n",
       "      <td>1</td>\n",
       "      <td>X</td>\n",
       "      <td>False</td>\n",
       "    </tr>\n",
       "    <tr>\n",
       "      <th>1</th>\n",
       "      <td>1</td>\n",
       "      <td>It</td>\n",
       "      <td>2</td>\n",
       "      <td>1</td>\n",
       "      <td>-PRON-</td>\n",
       "      <td>PRON</td>\n",
       "      <td>True</td>\n",
       "    </tr>\n",
       "    <tr>\n",
       "      <th>2</th>\n",
       "      <td>2</td>\n",
       "      <td>is</td>\n",
       "      <td>2</td>\n",
       "      <td>1</td>\n",
       "      <td>be</td>\n",
       "      <td>AUX</td>\n",
       "      <td>True</td>\n",
       "    </tr>\n",
       "    <tr>\n",
       "      <th>3</th>\n",
       "      <td>3</td>\n",
       "      <td>a</td>\n",
       "      <td>2</td>\n",
       "      <td>1</td>\n",
       "      <td>a</td>\n",
       "      <td>DET</td>\n",
       "      <td>True</td>\n",
       "    </tr>\n",
       "    <tr>\n",
       "      <th>4</th>\n",
       "      <td>4</td>\n",
       "      <td>truth</td>\n",
       "      <td>2</td>\n",
       "      <td>1</td>\n",
       "      <td>truth</td>\n",
       "      <td>NOUN</td>\n",
       "      <td>False</td>\n",
       "    </tr>\n",
       "  </tbody>\n",
       "</table>\n",
       "</div>"
      ],
      "text/plain": [
       "   word_num   word  sentence_num  chapter_num   lemma   POS   stop\n",
       "0         1      1             1            1       1     X  False\n",
       "1         1     It             2            1  -PRON-  PRON   True\n",
       "2         2     is             2            1      be   AUX   True\n",
       "3         3      a             2            1       a   DET   True\n",
       "4         4  truth             2            1   truth  NOUN  False"
      ]
     },
     "execution_count": 73,
     "metadata": {},
     "output_type": "execute_result"
    }
   ],
   "source": [
    "words.head()"
   ]
  },
  {
   "cell_type": "code",
   "execution_count": 75,
   "metadata": {},
   "outputs": [],
   "source": [
    "words.to_csv(\"words.csv\")"
   ]
  }
 ],
 "metadata": {
  "kernelspec": {
   "display_name": "Python 3",
   "language": "python",
   "name": "python3"
  },
  "language_info": {
   "codemirror_mode": {
    "name": "ipython",
    "version": 3
   },
   "file_extension": ".py",
   "mimetype": "text/x-python",
   "name": "python",
   "nbconvert_exporter": "python",
   "pygments_lexer": "ipython3",
   "version": "3.7.6"
  }
 },
 "nbformat": 4,
 "nbformat_minor": 4
}
