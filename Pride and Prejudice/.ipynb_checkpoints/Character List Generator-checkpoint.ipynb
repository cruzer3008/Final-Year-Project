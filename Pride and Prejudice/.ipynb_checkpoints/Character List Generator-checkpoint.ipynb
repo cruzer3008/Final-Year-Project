{
 "cells": [
  {
   "cell_type": "code",
   "execution_count": 1,
   "metadata": {},
   "outputs": [],
   "source": [
    "import pandas as pd\n",
    "from PIL import Image\n",
    "import matplotlib.pyplot as plt\n",
    "from wordcloud import WordCloud \n",
    "import nltk\n",
    "from nltk import FreqDist\n",
    "import spacy\n",
    "from collections import Counter"
   ]
  },
  {
   "cell_type": "code",
   "execution_count": 187,
   "metadata": {},
   "outputs": [],
   "source": [
    "words = pd.read_csv(\"words.csv\")"
   ]
  },
  {
   "cell_type": "code",
   "execution_count": 188,
   "metadata": {},
   "outputs": [
    {
     "name": "stdout",
     "output_type": "stream",
     "text": [
      "Counter({'Elizabeth': 634, 'Darcy': 412, 'Bennet': 322, 'Bingley': 305, 'Wickham': 194, 'Collins': 179, 'Lydia': 170, 'Catherine': 126, 'Lizzy': 96, 'Gardiner': 94, 'Longbourn': 88, 'Charlotte': 85, 'Netherfield': 72, 'Kitty': 71, 'Lucas': 70, 'Colonel': 63, 'Meryton': 57, 'London': 55, 'Pemberley': 53, 'William': 45, 'Hertfordshire': 41, 'Rosings': 41, 'Forster': 39, 'Bourgh': 39, 'Fitzwilliam': 36, 'Hurst': 33, 'Phillips': 31, 'Hunsford': 25, 'Derbyshire': 24, 'Brighton': 24, 'Eliza': 21, 'Maria': 20, 'Saturday': 17, 'Caroline': 16, 'Georgiana': 15, 'Parsonage': 14, 'madam': 13, 'Lucases': 12, 'Tuesday': 12, 'Denny': 12, 'Heaven': 11, 'Bennets': 10, 'Street': 10, 'Lambton': 10, 'Reynolds': 10, 'Monday': 9, 'gentleman': 9, 'Sunday': 9, 'Wednesday': 9, 'Jenkinson': 9, 'Gracechurch': 9, 'House': 8, 'George': 8, 'Scotland': 8, 'Lodge': 7, 'Charles': 7, 'mamma': 6, 'James': 6, 'Louisa': 6, 'Christmas': 6, 'Gardiners': 6, 'Lakes': 6, 'England': 5, 'Jones': 5, 'November': 5, 'Bingleys': 5, 'Collinses': 5, 'matrimony': 4, 'Captain': 4, 'Carter': 4, 'Thursday': 4, 'Younge': 4, 'Clapham': 4, 'North': 4, 'Newcastle': 4, 'spirit': 3, 'Robinson': 3, 'ma’am': 3, 'Mamma': 3, 'Madam': 3, 'mistaken': 3, 'Easter': 3, 'Lewis': 3, 'quadrille': 3, 'whist': 3, 'aloud': 3, 'Annesley': 3, 'Epsom': 3, 'GARDINER': 3, 'behaviour': 3, 'Michaelmas': 2, 'neglect': 2, 'conceited': 2, 'Scotch': 2, 'grave': 2, 'Cheapside': 2, 'general': 2, 'January': 2, 'modesty': 2, 'Nicholls': 2, 'backgammon': 2, 'abode': 2, 'hauteur': 2, 'world': 2, 'express': 2, 'countenance': 2, 'Grosvenor': 2, 'March': 2, 'Thank': 2, 'Militia': 2, 'Ramsgate': 2, 'Harriet': 2, 'Matlock': 2, 'Dearest': 2, 'Gretna': 2, 'Green': 2, 'Barnet': 2, 'infamy': 2, 'muslin': 2, 'Haggerston': 2, 'Gouldings': 2, 'General': 2, 'Mount': 2, 'Morris': 1, 'acquaintance': 1, 'learnt': 1, 'Boulanger': 1, 'horrid': 1, 'manners!—so': 1, 'clever': 1, 'did_—I': 1, 'he?—poor': 1, 'Eliza!—to': 1, 'Vingt': 1, 'Commerce': 1, 'friend!—always': 1, 'manner': 1, 'concerto': 1, 'propriety': 1, 'Watson': 1, 'Clarke': 1, 'CAROLINE': 1, 'BINGLEY': 1, 'Breakfast': 1, 'DEAREST': 1, 'LIZZY': 1, 'headache': 1, 'me.—Yours': 1, 'singular': 1, 'Neglect': 1, 'chiefly': 1, 'plain': 1, 'witticisms': 1, 'invalid': 1, 'Grantley': 1, 'quickness': 1, 'quest': 1, 'meaning?”—and': 1, 'Tease': 1, 'Elizabeth—“there': 1, 'Implacable': 1, 'Westerham': 1, 'October': 1, 'Right': 1, 'Honourable': 1, 'Church': 1, 'se’ennight': 1, 'clergyman': 1, 'WILLIAM': 1, 'COLLINS': 1, 'out.—There': 1, 'Fordyce': 1, 'Sermons': 1, 'Richard': 1, 'nature': 1, 'Phillip': 1, 'china': 1, 'heavens': 1, 'favourite': 1, 'Archbishop': 1, 'Friday': 1, 'Attendance': 1, 'solemn': 1, 'with:—“It': 1, 'taciturn': 1, 'Darcy:—but': 1, 'se’nnight': 1, 'heaven': 1, 'delights': 1, 'gravely—“but': 1, 'likelihood': 1, 'reproach': 1, 'highflown': 1, 'distrust': 1, 'grand': 1, 'satisfactory': 1, 'united': 1, 'universal': 1, 'Thoughtlessness': 1, 'gentlemanlike': 1, 'indefinite': 1, 'Phillipses': 1, 'pronounce': 1, 'February': 1, 'knighthood': 1, 'bustle': 1, 'journey': 1, 'laurel': 1, 'hedge': 1, 'ashamed': 1, 'uncommon': 1, 'Webbs': 1, 'Metcalf': 1, 'commission': 1, 'amiss': 1, 'walks': 1, 'perusal': 1, 'turnpike': 1, 'Cambridge': 1, 'cruelty': 1, 'FITZWILLIAM': 1, 'DARCY': 1, 'horror': 1, 'idleness': 1, 'partial': 1, 'Dawson': 1, 'barouche': 1, 'Bromley': 1, 'chagrin': 1, 'larder': 1, 'capital': 1, 'Liverpool': 1, 'chaperon': 1, 'Harringtons': 1, 'Chamberlayne': 1, 'Pratt': 1, 'equivocal': 1, 'Miller': 1, 'restless': 1, 'farewell': 1, 'conjugal': 1, 'beauty': 1, 'Office': 1, 'Chatsworth': 1, 'Dovedale': 1, 'Oxford': 1, 'Blenheim': 1, 'Warwick': 1, 'Kenilworth': 1, 'Birmingham': 1, 'satin': 1, 'house': 1, 'Woods': 1, 'gaudy': 1, 'herself—“that': 1, 'steward': 1, 'accomplished!—She': 1, 'overcome': 1, 'hills': 1, 'accustomed': 1, 'Bakewell': 1, 'eager': 1, 'Eager': 1, 'beauty!—I': 1, 'missent': 1, 'Though': 1, 'Hatfield': 1, 'Surprise': 1, 'forego': 1, 'Forsters': 1, 'Sally': 1, 'LYDIA': 1, 'hackney': 1, 'Eastbourne': 1, 'August': 1, 'Brother': 1, 'calico': 1, 'cambric': 1, 'Philips': 1, 'Great': 1, 'Britain': 1, 'dilatory': 1, 'Stoke': 1, 'Ashworth': 1, 'Pulvis': 1, 'South': 1, 'regiment': 1, 'forwards': 1, 'Goulding': 1, 'September': 1, 'Clement': 1, 'Little': 1, 'Theatre': 1, 'Stone': 1, 'yes!—he': 1, 'it;—till': 1, 'Niece': 1, 'Edward': 1, 'street': 1, 'sly;—he': 1, 'uncle': 1, 'Kympton': 1, 'place!—Excellent': 1, 'adieus': 1, 'errand': 1, 'husband': 1, 'looked,—she': 1, 'what’s': 1, 'Darcy!—and': 1, 'lustre': 1, 'Times': 1, 'Courier': 1, 'Teasing': 1, 'Scarborough': 1, 'acknowledge': 1, 'Sarah': 1, 'aspire': 1, 'Obstinate': 1, 'headstrong': 1, 'father': 1, 'earth!—of': 1, 'mortal': 1, 'Christian': 1, 'April': 1, 'gratitude': 1, 'Oakham': 1, 'tall!—Oh': 1, 'Console': 1, 'Happy': 1})\n"
     ]
    }
   ],
   "source": [
    "charList = []\n",
    "for i in range(len(words)):\n",
    "    if(words.loc[i]['POS']=='PROPN'):\n",
    "        if(len(words.loc[i]['word'])>4):\n",
    "            charList.append(words.loc[i]['word'])\n",
    "charDict = {}\n",
    "charDict = Counter(charList)\n",
    "print(charDict)"
   ]
  },
  {
   "cell_type": "code",
   "execution_count": 195,
   "metadata": {},
   "outputs": [
    {
     "name": "stdout",
     "output_type": "stream",
     "text": [
      "{'Bennet': 322, 'Netherfield': 72, 'Bingley': 305, 'William': 45, 'Lucas': 70, 'Lizzy': 96, 'Lydia': 170, 'Elizabeth': 634, 'Kitty': 71, 'Heaven': 11, 'Hertfordshire': 41, 'London': 55, 'Hurst': 33, 'Darcy': 412, 'Derbyshire': 24, 'Catherine': 126, 'Longbourn': 88, 'Maria': 20, 'Meryton': 57, 'Bennets': 10, 'Lucases': 12, 'Charlotte': 85, 'Eliza': 21, 'Colonel': 63, 'Forster': 39, 'Pemberley': 53, 'Phillips': 31, 'Caroline': 16, 'Gardiner': 94, 'Tuesday': 12, 'Saturday': 17, 'Collins': 179, 'Hunsford': 25, 'Bourgh': 39, 'madam': 13, 'Rosings': 41, 'Denny': 12, 'Wickham': 194, 'Parsonage': 14, 'Street': 10, 'Georgiana': 15, 'Fitzwilliam': 36, 'Brighton': 24, 'Lambton': 10, 'Reynolds': 10}\n"
     ]
    }
   ],
   "source": [
    "charDict = {k:v for k,v in charDict.items() if v>=10}\n",
    "print(charDict)"
   ]
  },
  {
   "cell_type": "code",
   "execution_count": 196,
   "metadata": {},
   "outputs": [
    {
     "name": "stdout",
     "output_type": "stream",
     "text": [
      "['Bennet', 'Netherfield', 'Bingley', 'William', 'Lucas', 'Lizzy', 'Lydia', 'Elizabeth', 'Kitty', 'Heaven', 'Hertfordshire', 'London', 'Hurst', 'Darcy', 'Derbyshire', 'Catherine', 'Longbourn', 'Maria', 'Meryton', 'Bennets', 'Lucases', 'Charlotte', 'Eliza', 'Colonel', 'Forster', 'Pemberley', 'Phillips', 'Caroline', 'Gardiner', 'Tuesday', 'Saturday', 'Collins', 'Hunsford', 'Bourgh', 'madam', 'Rosings', 'Denny', 'Wickham', 'Parsonage', 'Street', 'Georgiana', 'Fitzwilliam', 'Brighton', 'Lambton', 'Reynolds']\n"
     ]
    }
   ],
   "source": [
    "names = []\n",
    "for k,v in charDict.items():\n",
    "    names.append(k)\n",
    "print(names)"
   ]
  },
  {
   "cell_type": "code",
   "execution_count": 197,
   "metadata": {},
   "outputs": [],
   "source": [
    "babyNames_df = pd.read_csv(\"babyNames.csv\")\n",
    "babyNames = list(babyNames_df['name'])"
   ]
  },
  {
   "cell_type": "code",
   "execution_count": 198,
   "metadata": {},
   "outputs": [
    {
     "name": "stdout",
     "output_type": "stream",
     "text": [
      "['Netherfield', 'William', 'Lucas', 'Lydia', 'Elizabeth', 'Kitty', 'Heaven', 'London', 'Darcy', 'Catherine', 'Maria', 'Bennets', 'Charlotte', 'Eliza', 'Colonel', 'Pemberley', 'Caroline', 'Tuesday', 'Collins', 'Bourgh', 'Rosings', 'Denny', 'Parsonage', 'Georgiana', 'Brighton', 'Reynolds']\n"
     ]
    }
   ],
   "source": [
    "for name in names:\n",
    "    if name not in babyNames:\n",
    "        names.remove(name)\n",
    "print(names)"
   ]
  },
  {
   "cell_type": "code",
   "execution_count": null,
   "metadata": {},
   "outputs": [],
   "source": []
  }
 ],
 "metadata": {
  "kernelspec": {
   "display_name": "Python 3",
   "language": "python",
   "name": "python3"
  },
  "language_info": {
   "codemirror_mode": {
    "name": "ipython",
    "version": 3
   },
   "file_extension": ".py",
   "mimetype": "text/x-python",
   "name": "python",
   "nbconvert_exporter": "python",
   "pygments_lexer": "ipython3",
   "version": "3.7.6"
  }
 },
 "nbformat": 4,
 "nbformat_minor": 4
}
