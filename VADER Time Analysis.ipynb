{
 "cells": [
  {
   "cell_type": "code",
   "execution_count": 11,
   "metadata": {},
   "outputs": [],
   "source": [
    "import re\n",
    "import pandas as pd\n",
    "import numpy as np\n",
    "from collections import defaultdict\n",
    "from numba import jit, cuda \n",
    "\n",
    "# Set Pandas to display all rows of dataframes\n",
    "pd.set_option('display.max_rows', 500)\n",
    "\n",
    "# nltk\n",
    "from nltk import tokenize\n",
    "\n",
    "from vaderSentiment.vaderSentiment import SentimentIntensityAnalyzer\n",
    "\n",
    "# Plotting tools\n",
    "import matplotlib.pyplot as plt\n",
    "import matplotlib\n",
    "plt.style.use('fivethirtyeight')\n",
    "%matplotlib inline\n",
    "\n",
    "import warnings\n",
    "warnings.filterwarnings(\"ignore\", category=DeprecationWarning)\n",
    "\n",
    "from tqdm import tqdm_notebook as tqdm\n",
    "from tqdm import trange"
   ]
  },
  {
   "cell_type": "code",
   "execution_count": 12,
   "metadata": {},
   "outputs": [],
   "source": [
    "# Book number and corresponding file size\n",
    "numbers = [\"01\",\"02\",\"03\",\"04\",\"05\",\"06\",\"07\",\"08\",\"09\",\"10\",\"11\",\"12\",\"13\",\"14\",\"15\",\"16\",\"17\",\"18\"]\n",
    "sizes = [1336,454,1871,365,1098,959,1487,811,539,124,127,3130,1706,525,192,47,18,51]"
   ]
  },
  {
   "cell_type": "code",
   "execution_count": 13,
   "metadata": {},
   "outputs": [
    {
     "data": {
      "text/html": [
       "<div>\n",
       "<style scoped>\n",
       "    .dataframe tbody tr th:only-of-type {\n",
       "        vertical-align: middle;\n",
       "    }\n",
       "\n",
       "    .dataframe tbody tr th {\n",
       "        vertical-align: top;\n",
       "    }\n",
       "\n",
       "    .dataframe thead th {\n",
       "        text-align: right;\n",
       "    }\n",
       "</style>\n",
       "<table border=\"1\" class=\"dataframe\">\n",
       "  <thead>\n",
       "    <tr style=\"text-align: right;\">\n",
       "      <th></th>\n",
       "      <th>section_num</th>\n",
       "      <th>section</th>\n",
       "      <th>book_title</th>\n",
       "      <th>book_num</th>\n",
       "    </tr>\n",
       "  </thead>\n",
       "  <tbody>\n",
       "    <tr>\n",
       "      <th>0</th>\n",
       "      <td>1</td>\n",
       "      <td>I\\n\\nOm! Having bowed down to Narayana and Na...</td>\n",
       "      <td>ADI PARVA</td>\n",
       "      <td>1</td>\n",
       "    </tr>\n",
       "    <tr>\n",
       "      <th>1</th>\n",
       "      <td>2</td>\n",
       "      <td>II\\n\\n\"The Rishis said, 'O son of Suta, we wi...</td>\n",
       "      <td>ADI PARVA</td>\n",
       "      <td>1</td>\n",
       "    </tr>\n",
       "    <tr>\n",
       "      <th>2</th>\n",
       "      <td>3</td>\n",
       "      <td>III\\n\\n(Paushya Parva)\\n\\nSauti said, \"Janame...</td>\n",
       "      <td>ADI PARVA</td>\n",
       "      <td>1</td>\n",
       "    </tr>\n",
       "    <tr>\n",
       "      <th>3</th>\n",
       "      <td>4</td>\n",
       "      <td>IV\\n\\n(Pauloma Parva)\\n\\n'UGRASRAVA SAUTI, th...</td>\n",
       "      <td>ADI PARVA</td>\n",
       "      <td>1</td>\n",
       "    </tr>\n",
       "    <tr>\n",
       "      <th>4</th>\n",
       "      <td>5</td>\n",
       "      <td>V\\n\\n(Pauloma Parva continued)\\n\\n\"Saunaka sa...</td>\n",
       "      <td>ADI PARVA</td>\n",
       "      <td>1</td>\n",
       "    </tr>\n",
       "  </tbody>\n",
       "</table>\n",
       "</div>"
      ],
      "text/plain": [
       "   section_num                                            section book_title  \\\n",
       "0            1   I\\n\\nOm! Having bowed down to Narayana and Na...  ADI PARVA   \n",
       "1            2   II\\n\\n\"The Rishis said, 'O son of Suta, we wi...  ADI PARVA   \n",
       "2            3   III\\n\\n(Paushya Parva)\\n\\nSauti said, \"Janame...  ADI PARVA   \n",
       "3            4   IV\\n\\n(Pauloma Parva)\\n\\n'UGRASRAVA SAUTI, th...  ADI PARVA   \n",
       "4            5   V\\n\\n(Pauloma Parva continued)\\n\\n\"Saunaka sa...  ADI PARVA   \n",
       "\n",
       "   book_num  \n",
       "0         1  \n",
       "1         1  \n",
       "2         1  \n",
       "3         1  \n",
       "4         1  "
      ]
     },
     "execution_count": 13,
     "metadata": {},
     "output_type": "execute_result"
    }
   ],
   "source": [
    "sections = pd.read_csv(\"Mahabharata/sections.csv\")\n",
    "words = pd.read_csv(\"Mahabharata/words.csv\")\n",
    "sections.head()"
   ]
  },
  {
   "cell_type": "code",
   "execution_count": 15,
   "metadata": {},
   "outputs": [
    {
     "name": "stdout",
     "output_type": "stream",
     "text": [
      "{1: 230700, 2: 77092, 3: 326528, 4: 62923, 5: 190169, 6: 161532, 7: 251665, 8: 138358, 9: 91659, 10: 21375, 11: 21870, 12: 536641, 13: 299867, 14: 89347, 15: 32740, 16: 8094, 17: 3074, 18: 8654}\n"
     ]
    }
   ],
   "source": [
    "numberOfWordsDict = {}\n",
    "for i in range(1,19):\n",
    "    bookPath = \"Mahabharata/data/mhbhrt/maha\"+numbers[i-1]+\".txt\"\n",
    "    file = open(bookPath, \"rt\")\n",
    "    data = file.read()\n",
    "    words = data.split()\n",
    "    numberOfWordsDict[i] = (len(words))\n",
    "print(numberOfWordsDict )"
   ]
  },
  {
   "cell_type": "code",
   "execution_count": 14,
   "metadata": {},
   "outputs": [
    {
     "data": {
      "text/html": [
       "<div>\n",
       "<style scoped>\n",
       "    .dataframe tbody tr th:only-of-type {\n",
       "        vertical-align: middle;\n",
       "    }\n",
       "\n",
       "    .dataframe tbody tr th {\n",
       "        vertical-align: top;\n",
       "    }\n",
       "\n",
       "    .dataframe thead th {\n",
       "        text-align: right;\n",
       "    }\n",
       "</style>\n",
       "<table border=\"1\" class=\"dataframe\">\n",
       "  <thead>\n",
       "    <tr style=\"text-align: right;\">\n",
       "      <th></th>\n",
       "      <th>Unnamed: 0</th>\n",
       "      <th>word_num</th>\n",
       "      <th>word</th>\n",
       "      <th>sentence_num</th>\n",
       "      <th>section_num</th>\n",
       "      <th>book_title</th>\n",
       "      <th>book_num</th>\n",
       "      <th>lemma</th>\n",
       "      <th>POS</th>\n",
       "      <th>stop</th>\n",
       "    </tr>\n",
       "  </thead>\n",
       "  <tbody>\n",
       "    <tr>\n",
       "      <th>0</th>\n",
       "      <td>0</td>\n",
       "      <td>1</td>\n",
       "      <td>I</td>\n",
       "      <td>1</td>\n",
       "      <td>1</td>\n",
       "      <td>ADI PARVA</td>\n",
       "      <td>1</td>\n",
       "      <td>-PRON-</td>\n",
       "      <td>PRON</td>\n",
       "      <td>True</td>\n",
       "    </tr>\n",
       "    <tr>\n",
       "      <th>1</th>\n",
       "      <td>1</td>\n",
       "      <td>1</td>\n",
       "      <td>Om</td>\n",
       "      <td>2</td>\n",
       "      <td>1</td>\n",
       "      <td>ADI PARVA</td>\n",
       "      <td>1</td>\n",
       "      <td>Om</td>\n",
       "      <td>PROPN</td>\n",
       "      <td>False</td>\n",
       "    </tr>\n",
       "    <tr>\n",
       "      <th>2</th>\n",
       "      <td>2</td>\n",
       "      <td>2</td>\n",
       "      <td>!</td>\n",
       "      <td>2</td>\n",
       "      <td>1</td>\n",
       "      <td>ADI PARVA</td>\n",
       "      <td>1</td>\n",
       "      <td>!</td>\n",
       "      <td>PUNCT</td>\n",
       "      <td>False</td>\n",
       "    </tr>\n",
       "    <tr>\n",
       "      <th>3</th>\n",
       "      <td>3</td>\n",
       "      <td>1</td>\n",
       "      <td>Having</td>\n",
       "      <td>3</td>\n",
       "      <td>1</td>\n",
       "      <td>ADI PARVA</td>\n",
       "      <td>1</td>\n",
       "      <td>have</td>\n",
       "      <td>VERB</td>\n",
       "      <td>False</td>\n",
       "    </tr>\n",
       "    <tr>\n",
       "      <th>4</th>\n",
       "      <td>4</td>\n",
       "      <td>2</td>\n",
       "      <td>bowed</td>\n",
       "      <td>3</td>\n",
       "      <td>1</td>\n",
       "      <td>ADI PARVA</td>\n",
       "      <td>1</td>\n",
       "      <td>bow</td>\n",
       "      <td>VERB</td>\n",
       "      <td>False</td>\n",
       "    </tr>\n",
       "  </tbody>\n",
       "</table>\n",
       "</div>"
      ],
      "text/plain": [
       "   Unnamed: 0  word_num    word  sentence_num  section_num book_title  \\\n",
       "0           0         1       I             1            1  ADI PARVA   \n",
       "1           1         1      Om             2            1  ADI PARVA   \n",
       "2           2         2       !             2            1  ADI PARVA   \n",
       "3           3         1  Having             3            1  ADI PARVA   \n",
       "4           4         2   bowed             3            1  ADI PARVA   \n",
       "\n",
       "   book_num   lemma    POS   stop  \n",
       "0         1  -PRON-   PRON   True  \n",
       "1         1      Om  PROPN  False  \n",
       "2         1       !  PUNCT  False  \n",
       "3         1    have   VERB  False  \n",
       "4         1     bow   VERB  False  "
      ]
     },
     "execution_count": 14,
     "metadata": {},
     "output_type": "execute_result"
    }
   ],
   "source": [
    "words.head()"
   ]
  },
  {
   "cell_type": "code",
   "execution_count": null,
   "metadata": {},
   "outputs": [],
   "source": []
  },
  {
   "cell_type": "code",
   "execution_count": 16,
   "metadata": {},
   "outputs": [],
   "source": [
    "sections['section'] = sections.section.str.replace(\"\\n\", \" \")"
   ]
  },
  {
   "cell_type": "code",
   "execution_count": 17,
   "metadata": {},
   "outputs": [
    {
     "data": {
      "text/plain": [
       "['SANTI PARVA',\n",
       " 'BHISHMA PARVA',\n",
       " 'MAHAPRASTHANIKA PARVA',\n",
       " 'ADI PARVA',\n",
       " 'DRONA PARVA',\n",
       " 'STRI-PARVA',\n",
       " 'VANA PARVA',\n",
       " 'ASRAMAVASIKA PARVA',\n",
       " 'SVARGAROHANIKA-PARVA',\n",
       " 'KARNA-PARVA',\n",
       " 'SABHA PARVA',\n",
       " 'SHALYA-PARVA',\n",
       " 'MAUSALA-PARVA',\n",
       " 'UDYOGA PARVA',\n",
       " 'ANUSASANA PARVA',\n",
       " 'SAUPTIKA-PARVA',\n",
       " 'ASWAMEDHA PARVA',\n",
       " 'VIRATA PARVA']"
      ]
     },
     "execution_count": 17,
     "metadata": {},
     "output_type": "execute_result"
    }
   ],
   "source": [
    "chaptersDict = {}\n",
    "bookTitles = []\n",
    "for i in range(len(sections)):\n",
    "    bookTitles.append(sections.loc[i]['book_title'])\n",
    "bookTitles = list(set(bookTitles))\n",
    "bookTitles"
   ]
  },
  {
   "cell_type": "code",
   "execution_count": 18,
   "metadata": {},
   "outputs": [],
   "source": [
    "for i in range(len(bookTitles)):\n",
    "    bookContent = \"\"\n",
    "    for j in range(len(sections)):\n",
    "        if(sections.loc[j]['book_title'] is bookTitles[i]):\n",
    "            bookContent+=sections.loc[j]['section']\n",
    "    chaptersDict[bookTitles[i]] = bookContent"
   ]
  },
  {
   "cell_type": "code",
   "execution_count": 19,
   "metadata": {},
   "outputs": [],
   "source": [
    "analyzer = SentimentIntensityAnalyzer()"
   ]
  },
  {
   "cell_type": "code",
   "execution_count": 20,
   "metadata": {},
   "outputs": [],
   "source": [
    "import time"
   ]
  },
  {
   "cell_type": "code",
   "execution_count": 28,
   "metadata": {},
   "outputs": [
    {
     "data": {
      "application/vnd.jupyter.widget-view+json": {
       "model_id": "c1158fc1815c4920886ec205b2e727f4",
       "version_major": 2,
       "version_minor": 0
      },
      "text/plain": [
       "HBox(children=(FloatProgress(value=0.0, description='Progress', max=18.0, style=ProgressStyle(description_widt…"
      ]
     },
     "metadata": {},
     "output_type": "display_data"
    },
    {
     "name": "stdout",
     "output_type": "stream",
     "text": [
      "0 1336 3151180 3.7910892963409424\n",
      "1 454 965354 1.1962149143218994\n",
      "2 1871 17792 0.04378104209899902\n",
      "3 365 1332583 1.6022100448608398\n",
      "4 1098 1497942 2.0203709602355957\n",
      "5 959 127091 0.15926218032836914\n",
      "6 1487 1883480 2.5327706336975098\n",
      "7 811 192390 0.24644184112548828\n",
      "8 539 50758 0.07859230041503906\n",
      "9 124 817490 0.985314130783081\n",
      "10 127 456272 0.5764148235321045\n",
      "11 3130 542366 0.7233076095581055\n",
      "12 1706 47102 0.049215078353881836\n",
      "13 525 1105719 1.5397944450378418\n",
      "14 192 1718249 2.7636454105377197\n",
      "15 47 124464 0.18728280067443848\n",
      "16 18 528066 0.6115953922271729\n",
      "17 51 366530 0.44457149505615234\n",
      "\n"
     ]
    }
   ],
   "source": [
    "sentimentsDictionary = {}\n",
    "wordsvsTime = {}\n",
    "sizevsTime = {}\n",
    "i = 0\n",
    "for book_name,content in tqdm(chaptersDict.items(),desc='Progress'):\n",
    "    sentence_list = tokenize.sent_tokenize(content)\n",
    "    sentiments = {'compound': 0.0, 'neg': 0.0, 'neu': 0.0, 'pos': 0.0}\n",
    "    start = time.time()\n",
    "    for sentence in sentence_list:\n",
    "            vs = analyzer.polarity_scores(sentence)\n",
    "            sentiments['compound'] += vs['compound']\n",
    "            sentiments['neg'] += vs['neg']\n",
    "            sentiments['neu'] += vs['neu']\n",
    "            sentiments['pos'] += vs['pos']\n",
    "    end = time.time()\n",
    "    sentiments['compound'] = sentiments['compound'] / len(sentence_list)\n",
    "    sentiments['neg'] = sentiments['neg'] / len(sentence_list)\n",
    "    sentiments['neu'] = sentiments['neu'] / len(sentence_list)\n",
    "    sentiments['pos'] = sentiments['pos'] / len(sentence_list)\n",
    "    sentimentsDictionary[book_name] = sentiments\n",
    "    timeTaken = end-start\n",
    "    sizevsTime[sizes[i]] = timeTaken\n",
    "    wordsvsTime[len(content)] = timeTaken\n",
    "    print(i,sizes[i],len(content),timeTaken)\n",
    "    i+=1"
   ]
  },
  {
   "cell_type": "code",
   "execution_count": 31,
   "metadata": {},
   "outputs": [
    {
     "name": "stdout",
     "output_type": "stream",
     "text": [
      "{1336: 3.7910892963409424, 454: 1.1962149143218994, 1871: 0.04378104209899902, 365: 1.6022100448608398, 1098: 2.0203709602355957, 959: 0.15926218032836914, 1487: 2.5327706336975098, 811: 0.24644184112548828, 539: 0.07859230041503906, 124: 0.985314130783081, 127: 0.5764148235321045, 3130: 0.7233076095581055, 1706: 0.049215078353881836, 525: 1.5397944450378418, 192: 2.7636454105377197, 47: 0.18728280067443848, 18: 0.6115953922271729, 51: 0.44457149505615234}\n",
      "{3151180: 3.7910892963409424, 965354: 1.1962149143218994, 17792: 0.04378104209899902, 1332583: 1.6022100448608398, 1497942: 2.0203709602355957, 127091: 0.15926218032836914, 1883480: 2.5327706336975098, 192390: 0.24644184112548828, 50758: 0.07859230041503906, 817490: 0.985314130783081, 456272: 0.5764148235321045, 542366: 0.7233076095581055, 47102: 0.049215078353881836, 1105719: 1.5397944450378418, 1718249: 2.7636454105377197, 124464: 0.18728280067443848, 528066: 0.6115953922271729, 366530: 0.44457149505615234}\n"
     ]
    }
   ],
   "source": [
    "print(sizevsTime)\n",
    "print(wordsvsTime)"
   ]
  },
  {
   "cell_type": "code",
   "execution_count": 32,
   "metadata": {},
   "outputs": [
    {
     "name": "stdout",
     "output_type": "stream",
     "text": [
      "[(17792, 0.04378104209899902), (47102, 0.049215078353881836), (50758, 0.07859230041503906), (124464, 0.18728280067443848), (127091, 0.15926218032836914), (192390, 0.24644184112548828), (366530, 0.44457149505615234), (456272, 0.5764148235321045), (528066, 0.6115953922271729), (542366, 0.7233076095581055), (817490, 0.985314130783081), (965354, 1.1962149143218994), (1105719, 1.5397944450378418), (1332583, 1.6022100448608398), (1497942, 2.0203709602355957), (1718249, 2.7636454105377197), (1883480, 2.5327706336975098), (3151180, 3.7910892963409424)]\n"
     ]
    },
    {
     "data": {
      "image/png": "[encoded data removed]",
      "text/plain": [
       "<Figure size 432x288 with 1 Axes>"
      ]
     },
     "metadata": {
      "needs_background": "light"
     },
     "output_type": "display_data"
    }
   ],
   "source": [
    "#The graph below shows number of words vs time taken to process\n",
    "import matplotlib.pylab as plt\n",
    "\n",
    "lists = sorted(wordsvsTime.items())\n",
    "print(lists)\n",
    "x, y = zip(*lists) \n",
    "plt.plot(x, y)\n",
    "plt.show()"
   ]
  },
  {
   "cell_type": "code",
   "execution_count": 33,
   "metadata": {},
   "outputs": [
    {
     "name": "stdout",
     "output_type": "stream",
     "text": [
      "[(18, 0.6115953922271729), (47, 0.18728280067443848), (51, 0.44457149505615234), (124, 0.985314130783081), (127, 0.5764148235321045), (192, 2.7636454105377197), (365, 1.6022100448608398), (454, 1.1962149143218994), (525, 1.5397944450378418), (539, 0.07859230041503906), (811, 0.24644184112548828), (959, 0.15926218032836914), (1098, 2.0203709602355957), (1336, 3.7910892963409424), (1487, 2.5327706336975098), (1706, 0.049215078353881836), (1871, 0.04378104209899902), (3130, 0.7233076095581055)]\n"
     ]
    },
    {
     "data": {
      "image/png": "[encoded data removed]",
      "text/plain": [
       "<Figure size 432x288 with 1 Axes>"
      ]
     },
     "metadata": {
      "needs_background": "light"
     },
     "output_type": "display_data"
    }
   ],
   "source": [
    "#This shows file size in kiloBytes vs Time taken to process\n",
    "import matplotlib.pylab as plt\n",
    "\n",
    "lists = sorted(sizevsTime.items())\n",
    "print(lists)\n",
    "x, y = zip(*lists) \n",
    "plt.plot(x, y)\n",
    "plt.show()"
   ]
  }
 ],
 "metadata": {
  "kernelspec": {
   "display_name": "Python 3",
   "language": "python",
   "name": "python3"
  },
  "language_info": {
   "codemirror_mode": {
    "name": "ipython",
    "version": 3
   },
   "file_extension": ".py",
   "mimetype": "text/x-python",
   "name": "python",
   "nbconvert_exporter": "python",
   "pygments_lexer": "ipython3",
   "version": "3.7.6"
  }
 },
 "nbformat": 4,
 "nbformat_minor": 4
}
