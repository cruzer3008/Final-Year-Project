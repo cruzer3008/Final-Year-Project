{
 "cells": [
  {
   "cell_type": "code",
   "execution_count": 1,
   "metadata": {},
   "outputs": [],
   "source": [
    "import pandas as pd\n",
    "from PIL import Image\n",
    "import matplotlib.pyplot as plt\n",
    "from wordcloud import WordCloud \n",
    "import nltk\n",
    "from nltk import FreqDist\n",
    "import pickle"
   ]
  },
  {
   "cell_type": "code",
   "execution_count": 2,
   "metadata": {},
   "outputs": [],
   "source": [
    "words = pd.read_csv(\"words.csv\")"
   ]
  },
  {
   "cell_type": "code",
   "execution_count": 4,
   "metadata": {},
   "outputs": [],
   "source": [
    "with open(\"characterList.txt\", \"rb\") as fp:\n",
    "    characterList = pickle.load(fp)"
   ]
  },
  {
   "cell_type": "code",
   "execution_count": 5,
   "metadata": {},
   "outputs": [
    {
     "name": "stdout",
     "output_type": "stream",
     "text": [
      "The characters are:  ['John', 'Elinor', 'Marianne', 'Margaret', 'Fanny', 'Edward', 'Barton', 'Jennings', 'Brandon', 'Palmer', 'Lucy', 'Robert']\n"
     ]
    }
   ],
   "source": [
    "print(\"The characters are: \",characterList)"
   ]
  },
  {
   "cell_type": "code",
   "execution_count": 6,
   "metadata": {},
   "outputs": [
    {
     "name": "stdout",
     "output_type": "stream",
     "text": [
      "Enter the character Fanny\n"
     ]
    },
    {
     "data": {
      "text/plain": [
       "<matplotlib.image.AxesImage at 0x2afccc65ec8>"
      ]
     },
     "execution_count": 6,
     "metadata": {},
     "output_type": "execute_result"
    },
    {
     "data": {
      "image/png": "[encoded data removed]",
      "text/plain": [
       "<Figure size 432x288 with 1 Axes>"
      ]
     },
     "metadata": {
      "needs_background": "light"
     },
     "output_type": "display_data"
    }
   ],
   "source": [
    "character = input(\"Enter the character \")\n",
    "char_mention = pd.Series(words.loc[words['word'] == character].index)\n",
    "words.loc[2]['POS'] == 'ADJ'\n",
    "\n",
    "char_temp = pd.DataFrame()\n",
    "for t in range(len(char_mention)):\n",
    "    i = char_mention[t] - 3\n",
    "    j = char_mention[t] - 3\n",
    "    while True:\n",
    "        if((words.loc[j]['POS'] == 'ADJ') & (words.loc[j]['lemma'] != '-PRON-')):\n",
    "            hrk = words.loc[j]\n",
    "            char_temp = char_temp.append(hrk)\n",
    "            j=j+1\n",
    "        else:\n",
    "            j=j+1\n",
    "        if(j > i+6):\n",
    "            break\n",
    "adj_char = pd.Series(char_temp['word'])\n",
    "adj_char = list(adj_char)\n",
    "\n",
    "fdistk=FreqDist(adj_char)\n",
    "myList = fdistk.most_common(20)\n",
    "\n",
    "myDict = {}\n",
    "for i in range(len(myList)):\n",
    "    key = myList[i][0]\n",
    "    myDict[key] = myList[i][1]\n",
    "\n",
    "    \n",
    "wc = WordCloud(background_color=\"white\",width=5000,height=2500, max_words=20,relative_scaling=0.25,normalize_plurals=False).generate_from_frequencies(myDict)\n",
    "plt.imshow(wc)"
   ]
  }
 ],
 "metadata": {
  "kernelspec": {
   "display_name": "Python 3",
   "language": "python",
   "name": "python3"
  },
  "language_info": {
   "codemirror_mode": {
    "name": "ipython",
    "version": 3
   },
   "file_extension": ".py",
   "mimetype": "text/x-python",
   "name": "python",
   "nbconvert_exporter": "python",
   "pygments_lexer": "ipython3",
   "version": "3.7.6"
  }
 },
 "nbformat": 4,
 "nbformat_minor": 4
}
