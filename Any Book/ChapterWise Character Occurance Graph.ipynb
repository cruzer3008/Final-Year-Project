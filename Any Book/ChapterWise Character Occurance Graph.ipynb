{
 "cells": [
  {
   "cell_type": "code",
   "execution_count": 33,
   "metadata": {},
   "outputs": [],
   "source": [
    "import pickle\n",
    "import pandas as pd\n",
    "import matplotlib.pyplot as plt"
   ]
  },
  {
   "cell_type": "code",
   "execution_count": 34,
   "metadata": {},
   "outputs": [
    {
     "name": "stdout",
     "output_type": "stream",
     "text": [
      "['John', 'Elinor', 'Marianne', 'Margaret', 'Fanny', 'Edward', 'Barton', 'Jennings', 'Brandon', 'Palmer', 'Lucy', 'Robert']\n"
     ]
    }
   ],
   "source": [
    "with open('characterList.txt', 'rb') as f:\n",
    "    x = pickle.load(f)\n",
    "print(x)"
   ]
  },
  {
   "cell_type": "code",
   "execution_count": 35,
   "metadata": {},
   "outputs": [
    {
     "name": "stdout",
     "output_type": "stream",
     "text": [
      "Number of chapters in the book:  50\n"
     ]
    }
   ],
   "source": [
    "with open(\"textFile.txt\", \"r\", encoding='utf8') as f:\n",
    "    file = f.read()\n",
    "raw = file.split(\"CHAPTER\")[1:]\n",
    "print(\"Number of chapters in the book: \",len(raw))"
   ]
  },
  {
   "cell_type": "code",
   "execution_count": 36,
   "metadata": {},
   "outputs": [],
   "source": [
    "book_df = pd.DataFrame({\"chapter\": raw})"
   ]
  },
  {
   "cell_type": "code",
   "execution_count": 38,
   "metadata": {},
   "outputs": [
    {
     "name": "stdout",
     "output_type": "stream",
     "text": [
      "Enter the character name Barton\n"
     ]
    }
   ],
   "source": [
    "character = input(\"Enter the character name \")"
   ]
  },
  {
   "cell_type": "code",
   "execution_count": 39,
   "metadata": {},
   "outputs": [],
   "source": [
    "chapters = book_df.copy()\n",
    "chapters['chapter_num'] = chapters.index+1"
   ]
  },
  {
   "cell_type": "code",
   "execution_count": 40,
   "metadata": {},
   "outputs": [],
   "source": [
    "chaptersDictionary = {}\n",
    "for i in range(len(chapters)):\n",
    "    chaptersDictionary[chapters.loc[i]['chapter_num']] = chapters.loc[i]['chapter']"
   ]
  },
  {
   "cell_type": "code",
   "execution_count": 41,
   "metadata": {},
   "outputs": [
    {
     "name": "stdout",
     "output_type": "stream",
     "text": [
      "{1: 0, 2: 0, 3: 0, 4: 3, 5: 2, 6: 6, 7: 4, 8: 2, 9: 3, 10: 0, 11: 0, 12: 2, 13: 1, 14: 3, 15: 2, 16: 4, 17: 1, 18: 0, 19: 1, 20: 3, 21: 4, 22: 1, 23: 0, 24: 1, 25: 1, 26: 1, 27: 2, 28: 0, 29: 2, 30: 1, 31: 5, 32: 5, 33: 0, 34: 0, 35: 1, 36: 0, 37: 1, 38: 0, 39: 3, 40: 1, 41: 0, 42: 3, 43: 2, 44: 1, 45: 2, 46: 3, 47: 2, 48: 1, 49: 6, 50: 3}\n"
     ]
    }
   ],
   "source": [
    "occDict = {}\n",
    "for k,v in chaptersDictionary.items():\n",
    "    charCount = 0\n",
    "    occDict[k] = v.count(character)\n",
    "print(occDict)"
   ]
  },
  {
   "cell_type": "code",
   "execution_count": 43,
   "metadata": {},
   "outputs": [
    {
     "data": {
      "image/png": "[encoded data removed]",
      "text/plain": [
       "<Figure size 864x648 with 1 Axes>"
      ]
     },
     "metadata": {
      "needs_background": "light"
     },
     "output_type": "display_data"
    }
   ],
   "source": [
    "plt.bar(range(len(occDict)), list(occDict.values()), align='center')\n",
    "plt.xticks(range(len(occDict)), list(occDict.keys()))\n",
    "plt.rcParams[\"figure.figsize\"] = (12, 12)\n",
    "plt.show()"
   ]
  }
 ],
 "metadata": {
  "kernelspec": {
   "display_name": "Python 3",
   "language": "python",
   "name": "python3"
  },
  "language_info": {
   "codemirror_mode": {
    "name": "ipython",
    "version": 3
   },
   "file_extension": ".py",
   "mimetype": "text/x-python",
   "name": "python",
   "nbconvert_exporter": "python",
   "pygments_lexer": "ipython3",
   "version": "3.7.6"
  }
 },
 "nbformat": 4,
 "nbformat_minor": 4
}
