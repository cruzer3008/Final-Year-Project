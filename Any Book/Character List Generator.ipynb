{
 "cells": [
  {
   "cell_type": "code",
   "execution_count": 1,
   "metadata": {},
   "outputs": [],
   "source": [
    "import pandas as pd\n",
    "from PIL import Image\n",
    "import matplotlib.pyplot as plt\n",
    "from wordcloud import WordCloud \n",
    "import nltk\n",
    "from nltk import FreqDist\n",
    "import spacy\n",
    "from collections import Counter\n",
    "import pickle"
   ]
  },
  {
   "cell_type": "code",
   "execution_count": 2,
   "metadata": {},
   "outputs": [],
   "source": [
    "words = pd.read_csv(\"words.csv\")"
   ]
  },
  {
   "cell_type": "code",
   "execution_count": 3,
   "metadata": {},
   "outputs": [],
   "source": [
    "englishHonorfics = [\n",
    "  'Mr.',\n",
    "  'Colonel',\n",
    "  'Ms.',\n",
    "  'Miss',\n",
    "  'Mrs.',\n",
    "  'Mx.',\n",
    "  'Master',\n",
    "  'Sir',\n",
    "  'Madam',\n",
    "  'Dame',\n",
    "  'Lord',\n",
    "  'Lady',\n",
    "  'Dr.',\n",
    "  'Prof.',\n",
    "  'Br.',\n",
    "  'Sr..',\n",
    "  'Fr.',\n",
    "  'Rev.',\n",
    "  'Pr.',\n",
    "  'Elder'\n",
    "]"
   ]
  },
  {
   "cell_type": "code",
   "execution_count": 4,
   "metadata": {},
   "outputs": [
    {
     "name": "stdout",
     "output_type": "stream",
     "text": [
      "{'Dashwood': 248, 'Norland': 53, 'John': 162, 'Elinor': 676, 'Marianne': 561, 'Margaret': 35, 'Dashwoods': 32, 'Fanny': 47, 'Edward': 254, 'Ferrars': 118, 'Barton': 89, 'Middleton': 102, 'Jennings': 234, 'Brandon': 142, 'Willoughby': 212, 'London': 34, 'Palmer': 75, 'Lucy': 181, 'Steele': 37, 'Robert': 32, 'Street': 44}\n"
     ]
    }
   ],
   "source": [
    "charList = []\n",
    "for i in range(len(words)):\n",
    "    if(words.loc[i]['POS']=='PROPN'):\n",
    "        if(words.loc[i]['word'][0].isupper()):\n",
    "            if(words.loc[i]['word'] not in englishHonorfics):\n",
    "                charList.append(words.loc[i]['word'])\n",
    "charDict = {}\n",
    "charDict = Counter(charList)\n",
    "charDict = {key:val for key, val in charDict.items() if val >= 30}\n",
    "print(charDict)"
   ]
  },
  {
   "cell_type": "code",
   "execution_count": 5,
   "metadata": {},
   "outputs": [],
   "source": [
    "with open(\"../Human Names Generator/humanNames.txt\", \"rb\") as fp:\n",
    "    namesList = pickle.load(fp)"
   ]
  },
  {
   "cell_type": "code",
   "execution_count": 6,
   "metadata": {},
   "outputs": [
    {
     "name": "stdout",
     "output_type": "stream",
     "text": [
      "{'Elinor': 676, 'Marianne': 561, 'Edward': 254, 'Jennings': 234, 'Lucy': 181, 'John': 162, 'Brandon': 142, 'Barton': 89, 'Palmer': 75, 'Fanny': 47, 'Margaret': 35, 'Robert': 32}\n",
      "\n",
      "['John', 'Elinor', 'Marianne', 'Margaret', 'Fanny', 'Edward', 'Barton', 'Jennings', 'Brandon', 'Palmer', 'Lucy', 'Robert']\n"
     ]
    }
   ],
   "source": [
    "characterList = []\n",
    "for k in list(charDict.keys()):\n",
    "    if k not in namesList:\n",
    "        del charDict[k]\n",
    "    else:\n",
    "         characterList.append(k)\n",
    "charDict = {k: v for k, v in sorted(charDict.items(), key=lambda item: item[1], reverse = True)}\n",
    "print(charDict)\n",
    "print()\n",
    "print(characterList)"
   ]
  },
  {
   "cell_type": "code",
   "execution_count": 7,
   "metadata": {},
   "outputs": [],
   "source": [
    "with open(\"characterList.txt\", \"wb\") as fp:\n",
    "    pickle.dump(characterList, fp)"
   ]
  }
 ],
 "metadata": {
  "kernelspec": {
   "display_name": "Python 3",
   "language": "python",
   "name": "python3"
  },
  "language_info": {
   "codemirror_mode": {
    "name": "ipython",
    "version": 3
   },
   "file_extension": ".py",
   "mimetype": "text/x-python",
   "name": "python",
   "nbconvert_exporter": "python",
   "pygments_lexer": "ipython3",
   "version": "3.7.6"
  }
 },
 "nbformat": 4,
 "nbformat_minor": 4
}
