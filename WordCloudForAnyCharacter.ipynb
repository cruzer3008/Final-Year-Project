{
 "cells": [
  {
   "cell_type": "code",
   "execution_count": 3,
   "metadata": {},
   "outputs": [],
   "source": [
    "import numpy as np\n",
    "import pandas as pd\n",
    "import nltk\n",
    "from nltk import FreqDist"
   ]
  },
  {
   "cell_type": "code",
   "execution_count": 4,
   "metadata": {},
   "outputs": [],
   "source": [
    "with open(\"data/mhbhrt/mahafull.txt\", \"r\") as f:\n",
    "    file = f.read()"
   ]
  },
  {
   "cell_type": "code",
   "execution_count": 12,
   "metadata": {},
   "outputs": [
    {
     "data": {
      "text/plain": [
       "18"
      ]
     },
     "execution_count": 12,
     "metadata": {},
     "output_type": "execute_result"
    }
   ],
   "source": [
    "# Get all the chapters\n",
    "raw = file.split(\"BOOK\")[1:]\n",
    "len(raw)\n",
    "# raw[0]"
   ]
  },
  {
   "cell_type": "code",
   "execution_count": 13,
   "metadata": {},
   "outputs": [],
   "source": [
    "# Create the dataframe\n",
    "mhb_df = pd.DataFrame({\"book\": raw})\n"
   ]
  },
  {
   "cell_type": "code",
   "execution_count": 14,
   "metadata": {},
   "outputs": [],
   "source": [
    "books = mhb_df.copy()"
   ]
  },
  {
   "cell_type": "code",
   "execution_count": 15,
   "metadata": {},
   "outputs": [
    {
     "data": {
      "text/html": [
       "<div>\n",
       "<style scoped>\n",
       "    .dataframe tbody tr th:only-of-type {\n",
       "        vertical-align: middle;\n",
       "    }\n",
       "\n",
       "    .dataframe tbody tr th {\n",
       "        vertical-align: top;\n",
       "    }\n",
       "\n",
       "    .dataframe thead th {\n",
       "        text-align: right;\n",
       "    }\n",
       "</style>\n",
       "<table border=\"1\" class=\"dataframe\">\n",
       "  <thead>\n",
       "    <tr style=\"text-align: right;\">\n",
       "      <th></th>\n",
       "      <th>book</th>\n",
       "      <th>book_title</th>\n",
       "      <th>book_num</th>\n",
       "    </tr>\n",
       "  </thead>\n",
       "  <tbody>\n",
       "    <tr>\n",
       "      <th>0</th>\n",
       "      <td>1\\n\\nADI PARVA\\n\\nTRANSLATOR'S PREFACE\\n\\nThe...</td>\n",
       "      <td>ADI PARVA</td>\n",
       "      <td>1</td>\n",
       "    </tr>\n",
       "    <tr>\n",
       "      <th>1</th>\n",
       "      <td>2\\n\\nSABHA PARVA\\n\\n\\nSECTION I\\n\\n(Sabhakriy...</td>\n",
       "      <td>SABHA PARVA</td>\n",
       "      <td>2</td>\n",
       "    </tr>\n",
       "    <tr>\n",
       "      <th>2</th>\n",
       "      <td>3 \\n\\nVANA PARVA\\n\\nSECTION I\\n\\n(Aranyaka Pa...</td>\n",
       "      <td>VANA PARVA</td>\n",
       "      <td>3</td>\n",
       "    </tr>\n",
       "    <tr>\n",
       "      <th>3</th>\n",
       "      <td>4\\n\\nVIRATA PARVA\\n\\nSECTION I\\n\\n(Pandava-Pr...</td>\n",
       "      <td>VIRATA PARVA</td>\n",
       "      <td>4</td>\n",
       "    </tr>\n",
       "    <tr>\n",
       "      <th>4</th>\n",
       "      <td>5\\n\\nUDYOGA PARVA\\n\\nSECTION I\\n\\nOM! HAVING ...</td>\n",
       "      <td>UDYOGA PARVA</td>\n",
       "      <td>5</td>\n",
       "    </tr>\n",
       "    <tr>\n",
       "      <th>5</th>\n",
       "      <td>6\\n\\nBHISHMA PARVA\\n\\nSECTION I\\n\\n(Jamvu-kha...</td>\n",
       "      <td>BHISHMA PARVA</td>\n",
       "      <td>6</td>\n",
       "    </tr>\n",
       "    <tr>\n",
       "      <th>6</th>\n",
       "      <td>7\\n\\nDRONA PARVA\\n\\nSECTION I\\n\\n(Dronabhishe...</td>\n",
       "      <td>DRONA PARVA</td>\n",
       "      <td>7</td>\n",
       "    </tr>\n",
       "    <tr>\n",
       "      <th>7</th>\n",
       "      <td>8\\n\\nKARNA-PARVA\\n\\nSECTION 1\\n\\nOm! Having b...</td>\n",
       "      <td>KARNA-PARVA</td>\n",
       "      <td>8</td>\n",
       "    </tr>\n",
       "    <tr>\n",
       "      <th>8</th>\n",
       "      <td>9\\n\\nSHALYA-PARVA\\n\\nSECTION 1\\n\\nOm! Having ...</td>\n",
       "      <td>SHALYA-PARVA</td>\n",
       "      <td>9</td>\n",
       "    </tr>\n",
       "    <tr>\n",
       "      <th>9</th>\n",
       "      <td>10\\n\\nSAUPTIKA-PARVA\\n\\nSECTION 1\\n\\nOm! Havi...</td>\n",
       "      <td>SAUPTIKA-PARVA</td>\n",
       "      <td>10</td>\n",
       "    </tr>\n",
       "    <tr>\n",
       "      <th>10</th>\n",
       "      <td>11\\n\\nSTRI-PARVA\\n\\nSECTION 1\\n\\n(Jalapradani...</td>\n",
       "      <td>STRI-PARVA</td>\n",
       "      <td>11</td>\n",
       "    </tr>\n",
       "    <tr>\n",
       "      <th>11</th>\n",
       "      <td>12\\n\\nSANTI PARVA\\n\\nSECTION I\\n\\n(Rajadharma...</td>\n",
       "      <td>SANTI PARVA</td>\n",
       "      <td>12</td>\n",
       "    </tr>\n",
       "    <tr>\n",
       "      <th>12</th>\n",
       "      <td>13\\n\\nANUSASANA PARVA\\n\\nPART I\\n\\nSECTION I\\...</td>\n",
       "      <td>ANUSASANA PARVA</td>\n",
       "      <td>13</td>\n",
       "    </tr>\n",
       "    <tr>\n",
       "      <th>13</th>\n",
       "      <td>14\\n\\nASWAMEDHA PARVA\\n\\nSECTION I\\n\\n(Aswame...</td>\n",
       "      <td>ASWAMEDHA PARVA</td>\n",
       "      <td>14</td>\n",
       "    </tr>\n",
       "    <tr>\n",
       "      <th>14</th>\n",
       "      <td>15\\n\\nASRAMAVASIKA PARVA\\n\\nSECTION I\\n\\n(Asr...</td>\n",
       "      <td>ASRAMAVASIKA PARVA</td>\n",
       "      <td>15</td>\n",
       "    </tr>\n",
       "    <tr>\n",
       "      <th>15</th>\n",
       "      <td>16\\n\\nMAUSALA-PARVA\\n\\nSECTION 1\\n\\nOm! Havin...</td>\n",
       "      <td>MAUSALA-PARVA</td>\n",
       "      <td>16</td>\n",
       "    </tr>\n",
       "    <tr>\n",
       "      <th>16</th>\n",
       "      <td>17\\n\\nMAHAPRASTHANIKA PARVA\\n\\nSECTION 1\\n\\nO...</td>\n",
       "      <td>MAHAPRASTHANIKA PARVA</td>\n",
       "      <td>17</td>\n",
       "    </tr>\n",
       "    <tr>\n",
       "      <th>17</th>\n",
       "      <td>18\\n\\nSVARGAROHANIKA-PARVA\\n\\nSECTION 1\\n\\nOm...</td>\n",
       "      <td>SVARGAROHANIKA-PARVA</td>\n",
       "      <td>18</td>\n",
       "    </tr>\n",
       "  </tbody>\n",
       "</table>\n",
       "</div>"
      ],
      "text/plain": [
       "                                                 book             book_title  \\\n",
       "0    1\\n\\nADI PARVA\\n\\nTRANSLATOR'S PREFACE\\n\\nThe...              ADI PARVA   \n",
       "1    2\\n\\nSABHA PARVA\\n\\n\\nSECTION I\\n\\n(Sabhakriy...            SABHA PARVA   \n",
       "2    3 \\n\\nVANA PARVA\\n\\nSECTION I\\n\\n(Aranyaka Pa...             VANA PARVA   \n",
       "3    4\\n\\nVIRATA PARVA\\n\\nSECTION I\\n\\n(Pandava-Pr...           VIRATA PARVA   \n",
       "4    5\\n\\nUDYOGA PARVA\\n\\nSECTION I\\n\\nOM! HAVING ...           UDYOGA PARVA   \n",
       "5    6\\n\\nBHISHMA PARVA\\n\\nSECTION I\\n\\n(Jamvu-kha...          BHISHMA PARVA   \n",
       "6    7\\n\\nDRONA PARVA\\n\\nSECTION I\\n\\n(Dronabhishe...            DRONA PARVA   \n",
       "7    8\\n\\nKARNA-PARVA\\n\\nSECTION 1\\n\\nOm! Having b...            KARNA-PARVA   \n",
       "8    9\\n\\nSHALYA-PARVA\\n\\nSECTION 1\\n\\nOm! Having ...           SHALYA-PARVA   \n",
       "9    10\\n\\nSAUPTIKA-PARVA\\n\\nSECTION 1\\n\\nOm! Havi...         SAUPTIKA-PARVA   \n",
       "10   11\\n\\nSTRI-PARVA\\n\\nSECTION 1\\n\\n(Jalapradani...             STRI-PARVA   \n",
       "11   12\\n\\nSANTI PARVA\\n\\nSECTION I\\n\\n(Rajadharma...            SANTI PARVA   \n",
       "12   13\\n\\nANUSASANA PARVA\\n\\nPART I\\n\\nSECTION I\\...        ANUSASANA PARVA   \n",
       "13   14\\n\\nASWAMEDHA PARVA\\n\\nSECTION I\\n\\n(Aswame...        ASWAMEDHA PARVA   \n",
       "14   15\\n\\nASRAMAVASIKA PARVA\\n\\nSECTION I\\n\\n(Asr...     ASRAMAVASIKA PARVA   \n",
       "15   16\\n\\nMAUSALA-PARVA\\n\\nSECTION 1\\n\\nOm! Havin...          MAUSALA-PARVA   \n",
       "16   17\\n\\nMAHAPRASTHANIKA PARVA\\n\\nSECTION 1\\n\\nO...  MAHAPRASTHANIKA PARVA   \n",
       "17   18\\n\\nSVARGAROHANIKA-PARVA\\n\\nSECTION 1\\n\\nOm...   SVARGAROHANIKA-PARVA   \n",
       "\n",
       "    book_num  \n",
       "0          1  \n",
       "1          2  \n",
       "2          3  \n",
       "3          4  \n",
       "4          5  \n",
       "5          6  \n",
       "6          7  \n",
       "7          8  \n",
       "8          9  \n",
       "9         10  \n",
       "10        11  \n",
       "11        12  \n",
       "12        13  \n",
       "13        14  \n",
       "14        15  \n",
       "15        16  \n",
       "16        17  \n",
       "17        18  "
      ]
     },
     "execution_count": 15,
     "metadata": {},
     "output_type": "execute_result"
    }
   ],
   "source": [
    "books['book_title'] = books.book.str.split(\"\\n\").str[2]\n",
    "books['book_num'] = books.index+1\n",
    "books"
   ]
  },
  {
   "cell_type": "code",
   "execution_count": 16,
   "metadata": {},
   "outputs": [],
   "source": [
    "# book titles and book_setions\n",
    "book_sections=[\"book_title\" + \"\\t\" + \"section_title\" + \"\\t\" + \"section_content\"]\n",
    "for j in range(len(raw)):\n",
    "    book_title = raw[j].split(\"\\n\")[2]\n",
    "    book_section = raw[j].split(\"SECTION\")[1:]\n",
    "    for i in range(len(book_section)):\n",
    "        loop_var = book_title + '/t' + str(book_section[i].split(\"\\n\")[0].strip()) +'\\t'+ str(book_section[i][1:])\n",
    "        book_sections.append(loop_var)"
   ]
  },
  {
   "cell_type": "code",
   "execution_count": 17,
   "metadata": {},
   "outputs": [],
   "source": [
    "def unnest_tokens(dataframe, column, tokenizer, new_column='word'): \n",
    "    \"\"\"\n",
    "    Applies a tokenizer to a column and then unnest the dataframe\n",
    "    \n",
    "    dataframe: dataframe with text\n",
    "    column: name of the column with the text\n",
    "    new_column: what you want the column of words to be called\n",
    "    tokenizer: a function to be used to tokenize the text\n",
    "    \"\"\" \n",
    "    new_column_num = new_column + \"_num\"\n",
    "    df = ( dataframe[column]\n",
    "              .apply(tokenizer)\n",
    "              .apply(pd.Series)\n",
    "              .stack()\n",
    "              .reset_index(level=1)\n",
    "              .rename(columns={0: new_column, \"level_1\":new_column_num})\n",
    "              .join(dataframe.drop(column, axis=1), how='left')\n",
    "              .reset_index(drop=True)\n",
    "         )\n",
    "    df[new_column_num] = pd.to_numeric(df[new_column_num])\n",
    "    df[new_column_num] = df[new_column_num] + 1\n",
    "    return df"
   ]
  },
  {
   "cell_type": "code",
   "execution_count": 18,
   "metadata": {},
   "outputs": [],
   "source": [
    "def section_tokenizer(text):\n",
    "    return text.split(\"SECTION\")[1:]"
   ]
  },
  {
   "cell_type": "code",
   "execution_count": 19,
   "metadata": {},
   "outputs": [
    {
     "data": {
      "text/html": [
       "<div>\n",
       "<style scoped>\n",
       "    .dataframe tbody tr th:only-of-type {\n",
       "        vertical-align: middle;\n",
       "    }\n",
       "\n",
       "    .dataframe tbody tr th {\n",
       "        vertical-align: top;\n",
       "    }\n",
       "\n",
       "    .dataframe thead th {\n",
       "        text-align: right;\n",
       "    }\n",
       "</style>\n",
       "<table border=\"1\" class=\"dataframe\">\n",
       "  <thead>\n",
       "    <tr style=\"text-align: right;\">\n",
       "      <th></th>\n",
       "      <th>section_num</th>\n",
       "      <th>section</th>\n",
       "      <th>book_title</th>\n",
       "      <th>book_num</th>\n",
       "    </tr>\n",
       "  </thead>\n",
       "  <tbody>\n",
       "    <tr>\n",
       "      <th>0</th>\n",
       "      <td>1</td>\n",
       "      <td>I\\n\\nOm! Having bowed down to Narayana and Na...</td>\n",
       "      <td>ADI PARVA</td>\n",
       "      <td>1</td>\n",
       "    </tr>\n",
       "    <tr>\n",
       "      <th>1</th>\n",
       "      <td>2</td>\n",
       "      <td>II\\n\\n\"The Rishis said, 'O son of Suta, we wi...</td>\n",
       "      <td>ADI PARVA</td>\n",
       "      <td>1</td>\n",
       "    </tr>\n",
       "    <tr>\n",
       "      <th>2</th>\n",
       "      <td>3</td>\n",
       "      <td>III\\n\\n(Paushya Parva)\\n\\nSauti said, \"Janame...</td>\n",
       "      <td>ADI PARVA</td>\n",
       "      <td>1</td>\n",
       "    </tr>\n",
       "    <tr>\n",
       "      <th>3</th>\n",
       "      <td>4</td>\n",
       "      <td>IV\\n\\n(Pauloma Parva)\\n\\n'UGRASRAVA SAUTI, th...</td>\n",
       "      <td>ADI PARVA</td>\n",
       "      <td>1</td>\n",
       "    </tr>\n",
       "    <tr>\n",
       "      <th>4</th>\n",
       "      <td>5</td>\n",
       "      <td>V\\n\\n(Pauloma Parva continued)\\n\\n\"Saunaka sa...</td>\n",
       "      <td>ADI PARVA</td>\n",
       "      <td>1</td>\n",
       "    </tr>\n",
       "  </tbody>\n",
       "</table>\n",
       "</div>"
      ],
      "text/plain": [
       "   section_num                                            section book_title  \\\n",
       "0            1   I\\n\\nOm! Having bowed down to Narayana and Na...  ADI PARVA   \n",
       "1            2   II\\n\\n\"The Rishis said, 'O son of Suta, we wi...  ADI PARVA   \n",
       "2            3   III\\n\\n(Paushya Parva)\\n\\nSauti said, \"Janame...  ADI PARVA   \n",
       "3            4   IV\\n\\n(Pauloma Parva)\\n\\n'UGRASRAVA SAUTI, th...  ADI PARVA   \n",
       "4            5   V\\n\\n(Pauloma Parva continued)\\n\\n\"Saunaka sa...  ADI PARVA   \n",
       "\n",
       "   book_num  \n",
       "0         1  \n",
       "1         1  \n",
       "2         1  \n",
       "3         1  \n",
       "4         1  "
      ]
     },
     "execution_count": 19,
     "metadata": {},
     "output_type": "execute_result"
    }
   ],
   "source": [
    "#splitting into sections using the unnest function\n",
    "sections = unnest_tokens(books, \"book\", section_tokenizer, \"section\")\n",
    "sections.head()"
   ]
  },
  {
   "cell_type": "code",
   "execution_count": 20,
   "metadata": {},
   "outputs": [],
   "source": [
    "sections['section'] = sections.section.str.replace(\"\\n\", \" \")"
   ]
  },
  {
   "cell_type": "code",
   "execution_count": null,
   "metadata": {},
   "outputs": [],
   "source": []
  },
  {
   "cell_type": "code",
   "execution_count": null,
   "metadata": {},
   "outputs": [],
   "source": []
  },
  {
   "cell_type": "code",
   "execution_count": 21,
   "metadata": {},
   "outputs": [
    {
     "data": {
      "text/plain": [
       "spacy.lang.en.English"
      ]
     },
     "execution_count": 21,
     "metadata": {},
     "output_type": "execute_result"
    }
   ],
   "source": [
    "import spacy\n",
    "nlp = spacy.load('en')\n",
    "type(nlp)"
   ]
  },
  {
   "cell_type": "code",
   "execution_count": 22,
   "metadata": {},
   "outputs": [],
   "source": [
    "def sentence_tokenizer(text):\n",
    "    doc = nlp(text)\n",
    "    sentences = [sent.string.strip() for sent in doc.sents]\n",
    "    return sentences"
   ]
  },
  {
   "cell_type": "code",
   "execution_count": 23,
   "metadata": {},
   "outputs": [],
   "source": [
    "sentences = unnest_tokens(sections, \"section\", sentence_tokenizer, \"sentence\")"
   ]
  },
  {
   "cell_type": "code",
   "execution_count": null,
   "metadata": {},
   "outputs": [],
   "source": []
  },
  {
   "cell_type": "code",
   "execution_count": null,
   "metadata": {},
   "outputs": [],
   "source": []
  },
  {
   "cell_type": "code",
   "execution_count": 24,
   "metadata": {},
   "outputs": [],
   "source": [
    "def word_tokenizer(text):\n",
    "    doc = nlp(text)\n",
    "    words = [[token.text, token.lemma_, token.pos_, token.is_stop] for token in doc]\n",
    "    return words"
   ]
  },
  {
   "cell_type": "code",
   "execution_count": 25,
   "metadata": {},
   "outputs": [],
   "source": [
    "words = unnest_tokens(sentences, \"sentence\", word_tokenizer, \"word\")"
   ]
  },
  {
   "cell_type": "code",
   "execution_count": 26,
   "metadata": {},
   "outputs": [],
   "source": [
    "words[['word', 'lemma', 'POS', \"stop\"]] = pd.DataFrame(words.word.values.tolist())"
   ]
  },
  {
   "cell_type": "code",
   "execution_count": null,
   "metadata": {},
   "outputs": [],
   "source": []
  },
  {
   "cell_type": "code",
   "execution_count": 56,
   "metadata": {},
   "outputs": [
    {
     "name": "stdout",
     "output_type": "stream",
     "text": [
      "Enter the characterKrishna\n"
     ]
    },
    {
     "data": {
      "text/plain": [
       "<matplotlib.image.AxesImage at 0x2125d73e5c8>"
      ]
     },
     "execution_count": 56,
     "metadata": {},
     "output_type": "execute_result"
    },
    {
     "data": {
      "image/png": "[encoded data removed]",
      "text/plain": [
       "<Figure size 432x288 with 1 Axes>"
      ]
     },
     "metadata": {
      "needs_background": "light"
     },
     "output_type": "display_data"
    }
   ],
   "source": [
    "from PIL import Image\n",
    "import matplotlib.pyplot as plt\n",
    "from wordcloud import WordCloud \n",
    "\n",
    "character = input(\"Enter the character\")\n",
    "char_mention = pd.Series(words.loc[words['word'] == character].index)\n",
    "words.loc[2]['POS'] == 'ADJ'\n",
    "\n",
    "char_temp = pd.DataFrame()\n",
    "for t in range(len(char_mention)):\n",
    "    i = char_mention[t] - 5\n",
    "    j = char_mention[t] - 5\n",
    "    while True:\n",
    "        if((words.loc[j]['POS'] == 'ADJ') & (words.loc[j]['lemma'] != '-PRON-')):\n",
    "            hrk = words.loc[j]\n",
    "            char_temp = char_temp.append(hrk)\n",
    "            j=j+1\n",
    "        else:\n",
    "            j=j+1\n",
    "        if(j > i+10):\n",
    "            break\n",
    "adj_char = pd.Series(char_temp['word'])\n",
    "adj_char\n",
    "fdistk=FreqDist(adj_char)\n",
    "myList = fdistk.most_common(30)\n",
    "\n",
    "myDict = {}\n",
    "for i in range(len(myList)):\n",
    "    key = myList[i][0]\n",
    "    myDict[key] = myList[i][1]\n",
    "    \n",
    "wc = WordCloud(background_color=\"white\",width=2000,height=1000, max_words=30,relative_scaling=0.25,normalize_plurals=False).generate_from_frequencies(myDict)\n",
    "plt.imshow(wc)"
   ]
  }
 ],
 "metadata": {
  "kernelspec": {
   "display_name": "Python 3",
   "language": "python",
   "name": "python3"
  },
  "language_info": {
   "codemirror_mode": {
    "name": "ipython",
    "version": 3
   },
   "file_extension": ".py",
   "mimetype": "text/x-python",
   "name": "python",
   "nbconvert_exporter": "python",
   "pygments_lexer": "ipython3",
   "version": "3.7.6"
  }
 },
 "nbformat": 4,
 "nbformat_minor": 4
}
