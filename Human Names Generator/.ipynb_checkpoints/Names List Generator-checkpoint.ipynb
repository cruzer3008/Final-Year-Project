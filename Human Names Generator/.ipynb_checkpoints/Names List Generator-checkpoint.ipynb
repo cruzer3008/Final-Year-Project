{
 "cells": [
  {
   "cell_type": "code",
   "execution_count": 16,
   "metadata": {},
   "outputs": [],
   "source": [
    "import pandas as pd\n",
    "import pickle"
   ]
  },
  {
   "cell_type": "code",
   "execution_count": 17,
   "metadata": {},
   "outputs": [],
   "source": [
    "namesList = []"
   ]
  },
  {
   "cell_type": "code",
   "execution_count": 18,
   "metadata": {},
   "outputs": [],
   "source": [
    "indianMale = pd.read_csv('Indian-Male-Names.csv')\n",
    "for i in range(len(indianMale)):\n",
    "    namesList.append(indianMale.loc[i]['name'])"
   ]
  },
  {
   "cell_type": "code",
   "execution_count": 19,
   "metadata": {},
   "outputs": [],
   "source": [
    "indianFemale = pd.read_csv('Indian-Female-Names.csv')\n",
    "for i in range(len(indianFemale)):\n",
    "    namesList.append(indianFemale.loc[i]['name'])"
   ]
  },
  {
   "cell_type": "code",
   "execution_count": 20,
   "metadata": {},
   "outputs": [],
   "source": [
    "foreignNames = pd.read_csv('Foreign-Names.csv')\n",
    "for i in range(len(foreignNames)):\n",
    "    namesList.append(foreignNames.loc[i]['name'])"
   ]
  },
  {
   "cell_type": "code",
   "execution_count": 21,
   "metadata": {},
   "outputs": [
    {
     "name": "stdout",
     "output_type": "stream",
     "text": [
      "288219\n"
     ]
    }
   ],
   "source": [
    "print(len(namesList))"
   ]
  },
  {
   "cell_type": "code",
   "execution_count": 22,
   "metadata": {},
   "outputs": [],
   "source": [
    "tempNamesList = [x for x in namesList if str(x) != 'nan']"
   ]
  },
  {
   "cell_type": "code",
   "execution_count": 23,
   "metadata": {},
   "outputs": [],
   "source": [
    "finalNamesList = []\n",
    "for n in tempNamesList:\n",
    "    n = n.split(' ',2)[0]\n",
    "    n = n.capitalize()\n",
    "    finalNamesList.append(n)\n",
    "finalNamesList = list(filter((\"London\").__ne__, finalNamesList))"
   ]
  },
  {
   "cell_type": "code",
   "execution_count": 24,
   "metadata": {},
   "outputs": [
    {
     "name": "stdout",
     "output_type": "stream",
     "text": [
      "288153\n"
     ]
    }
   ],
   "source": [
    "print(len(finalNamesList))"
   ]
  },
  {
   "cell_type": "code",
   "execution_count": 25,
   "metadata": {},
   "outputs": [],
   "source": [
    "with open(\"humanNames.txt\", \"wb\") as fp:\n",
    "    pickle.dump(finalNamesList, fp)"
   ]
  }
 ],
 "metadata": {
  "kernelspec": {
   "display_name": "Python 3",
   "language": "python",
   "name": "python3"
  },
  "language_info": {
   "codemirror_mode": {
    "name": "ipython",
    "version": 3
   },
   "file_extension": ".py",
   "mimetype": "text/x-python",
   "name": "python",
   "nbconvert_exporter": "python",
   "pygments_lexer": "ipython3",
   "version": "3.7.6"
  }
 },
 "nbformat": 4,
 "nbformat_minor": 4
}
